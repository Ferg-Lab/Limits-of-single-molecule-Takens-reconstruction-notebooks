{
 "cells": [
  {
   "cell_type": "markdown",
   "metadata": {},
   "source": [
    "## ANN dMap h2t Takens latent space -> dMap all-atom latent space"
   ]
  },
  {
   "cell_type": "code",
   "execution_count": 1,
   "metadata": {},
   "outputs": [],
   "source": [
    "\n",
    "import os\n",
    "import matplotlib as mpl\n",
    "if os.environ.get('DISPLAY','') == '':\n",
    "    print('no display found. Using non-interactive Agg backend')\n",
    "    mpl.use('Agg')\n",
    "import matplotlib.pyplot as plt\n",
    "from mpl_toolkits.mplot3d import Axes3D\n",
    "\n",
    "import sys\n",
    "import math\n",
    "import time\n",
    "import pickle\n",
    "from copy import deepcopy\n",
    "\n",
    "import numpy as np\n",
    "import pandas as pd\n",
    "\n",
    "import torch\n",
    "from torch import nn #import torch.nn as nn\n",
    "import torch.nn.functional as F\n",
    "from torch.autograd import Variable\n",
    "import torch.utils.data\n",
    "from torch.utils.data import Dataset, TensorDataset, DataLoader\n",
    "import torch.nn.parallel\n",
    "import torch.optim as optim\n",
    "from torch.autograd import Variable\n",
    "import torch.utils.data\n",
    "from torch.utils.data.dataset import random_split\n",
    "\n",
    "\n",
    "import sklearn.preprocessing as pre\n",
    "from sklearn.model_selection import train_test_split\n",
    "\n",
    "from collections import OrderedDict\n",
    "\n",
    "import mdtraj as md\n",
    "\n",
    "device = torch.device(\"cpu\")"
   ]
  },
  {
   "cell_type": "code",
   "execution_count": 2,
   "metadata": {},
   "outputs": [],
   "source": [
    "showPlots=1\n",
    "useMagics=1\n",
    "if useMagics:\n",
    "    %matplotlib inline\n",
    "    #%matplotlib notebook\n",
    "    %load_ext autoreload\n",
    "    %autoreload 2'''"
   ]
  },
  {
   "cell_type": "markdown",
   "metadata": {},
   "source": [
    "# fix random seed for reproducibility\n",
    "np.random.seed(200186)\n",
    "torch.manual_seed(200186)\n",
    "if torch.cuda.is_available():\n",
    "    torch.cuda.manual_seed_all(200186)\n",
    "    \n",
    "pdb_dir = \"/home/maxtopel/Desktop/History/Gaussian Mol Rec/mol rec/Chignolin_partial/\"\n",
    "pdb_file = os.path.join(pdb_dir, \"system.pdb\")\n",
    "\n",
    "trj_dir = \"/home/maxtopel/Desktop/History/Gaussian Mol Rec/mol rec/Chignolin_partial/CLN2025-0-protein/\"\n",
    "trj_file = []\n",
    "for i in range(10):\n",
    "    fname = \"CLN025-0-protein-00\" + str(i) + \".dcd\"\n",
    "    trj_file.append(os.path.join(trj_dir, fname))\n",
    "for i in range(10,54):\n",
    "    fname = \"CLN025-0-protein-0\" + str(i) + \".dcd\"\n",
    "    trj_file.append(os.path.join(trj_dir, fname))\n",
    "\n",
    "# loading\n",
    "traj = md.load(trj_file, top=pdb_file)\n",
    "# restricting atoms in trajectory\n",
    "idx_atoms = traj.topology.select_atom_indices('heavy') # 'heavy' OR 'minimal' OR 'all'\n",
    "traj = traj.atom_slice(idx_atoms)\n",
    "\n",
    "# rot+trans alignment of trajectory to first frame\n",
    "traj.center_coordinates(mass_weighted=False)\n",
    "traj.superpose(traj[0])"
   ]
  },
  {
   "cell_type": "code",
   "execution_count": 3,
   "metadata": {},
   "outputs": [],
   "source": [
    "def make_train_step(model, loss_fn, optimizer):\n",
    "    # Builds function that performs a step in the train loop\n",
    "    def train_step(x, y):\n",
    "        # Sets model to TRAIN mode\n",
    "        model.train()\n",
    "        # Makes predictions\n",
    "        yhat = model(x)\n",
    "        # Computes loss\n",
    "        loss = loss_fn(y, yhat)\n",
    "        # Computes gradients\n",
    "        loss.backward()\n",
    "        # Updates parameters and zeroes gradients\n",
    "        optimizer.step()\n",
    "        optimizer.zero_grad()\n",
    "        # Returns the loss\n",
    "        return loss.item()\n",
    "    \n",
    "    # Returns the function that will be called inside the train loop\n",
    "    return train_step\n",
    "\n",
    "def get_activation(name):\n",
    "    def hook(model, input, output):\n",
    "        activation[name] = output.detach()\n",
    "    return hook\n",
    "\n",
    "#npzfile = np.load('/home/maxtopel/Desktop/History/Gaussian Mol Rec/mol rec/Chignolin_partial/h2t.npz')\n",
    "#sorted(npzfile.files)\n",
    "#h2t = npzfile['h2t']"
   ]
  },
  {
   "cell_type": "markdown",
   "metadata": {},
   "source": [
    "### All in\n"
   ]
  },
  {
   "cell_type": "code",
   "execution_count": 4,
   "metadata": {},
   "outputs": [
    {
     "name": "stderr",
     "output_type": "stream",
     "text": [
      "/home/maxtopel/anaconda3/lib/python3.7/site-packages/torch/nn/_reduction.py:14: UserWarning: reduction='elementwise_mean' is deprecated, please use reduction='mean' instead.\n",
      "  warnings.warn(\"reduction='elementwise_mean' is deprecated, please use reduction='mean' instead.\")\n"
     ]
    },
    {
     "name": "stdout",
     "output_type": "stream",
     "text": [
      "\tProcessed model 1/80\n"
     ]
    },
    {
     "name": "stderr",
     "output_type": "stream",
     "text": [
      "/home/maxtopel/anaconda3/lib/python3.7/site-packages/torch/nn/_reduction.py:14: UserWarning: reduction='elementwise_mean' is deprecated, please use reduction='mean' instead.\n",
      "  warnings.warn(\"reduction='elementwise_mean' is deprecated, please use reduction='mean' instead.\")\n"
     ]
    },
    {
     "name": "stdout",
     "output_type": "stream",
     "text": [
      "\tProcessed model 2/80\n"
     ]
    },
    {
     "name": "stderr",
     "output_type": "stream",
     "text": [
      "/home/maxtopel/anaconda3/lib/python3.7/site-packages/torch/nn/_reduction.py:14: UserWarning: reduction='elementwise_mean' is deprecated, please use reduction='mean' instead.\n",
      "  warnings.warn(\"reduction='elementwise_mean' is deprecated, please use reduction='mean' instead.\")\n"
     ]
    },
    {
     "name": "stdout",
     "output_type": "stream",
     "text": [
      "\tProcessed model 3/80\n"
     ]
    },
    {
     "name": "stderr",
     "output_type": "stream",
     "text": [
      "/home/maxtopel/anaconda3/lib/python3.7/site-packages/torch/nn/_reduction.py:14: UserWarning: reduction='elementwise_mean' is deprecated, please use reduction='mean' instead.\n",
      "  warnings.warn(\"reduction='elementwise_mean' is deprecated, please use reduction='mean' instead.\")\n"
     ]
    },
    {
     "name": "stdout",
     "output_type": "stream",
     "text": [
      "\tProcessed model 4/80\n"
     ]
    },
    {
     "name": "stderr",
     "output_type": "stream",
     "text": [
      "/home/maxtopel/anaconda3/lib/python3.7/site-packages/torch/nn/_reduction.py:14: UserWarning: reduction='elementwise_mean' is deprecated, please use reduction='mean' instead.\n",
      "  warnings.warn(\"reduction='elementwise_mean' is deprecated, please use reduction='mean' instead.\")\n"
     ]
    },
    {
     "name": "stdout",
     "output_type": "stream",
     "text": [
      "\tProcessed model 5/80\n"
     ]
    },
    {
     "name": "stderr",
     "output_type": "stream",
     "text": [
      "/home/maxtopel/anaconda3/lib/python3.7/site-packages/torch/nn/_reduction.py:14: UserWarning: reduction='elementwise_mean' is deprecated, please use reduction='mean' instead.\n",
      "  warnings.warn(\"reduction='elementwise_mean' is deprecated, please use reduction='mean' instead.\")\n"
     ]
    },
    {
     "name": "stdout",
     "output_type": "stream",
     "text": [
      "\tProcessed model 6/80\n"
     ]
    },
    {
     "name": "stderr",
     "output_type": "stream",
     "text": [
      "/home/maxtopel/anaconda3/lib/python3.7/site-packages/torch/nn/_reduction.py:14: UserWarning: reduction='elementwise_mean' is deprecated, please use reduction='mean' instead.\n",
      "  warnings.warn(\"reduction='elementwise_mean' is deprecated, please use reduction='mean' instead.\")\n"
     ]
    },
    {
     "name": "stdout",
     "output_type": "stream",
     "text": [
      "\tProcessed model 7/80\n"
     ]
    },
    {
     "name": "stderr",
     "output_type": "stream",
     "text": [
      "/home/maxtopel/anaconda3/lib/python3.7/site-packages/torch/nn/_reduction.py:14: UserWarning: reduction='elementwise_mean' is deprecated, please use reduction='mean' instead.\n",
      "  warnings.warn(\"reduction='elementwise_mean' is deprecated, please use reduction='mean' instead.\")\n"
     ]
    },
    {
     "name": "stdout",
     "output_type": "stream",
     "text": [
      "\tProcessed model 8/80\n"
     ]
    },
    {
     "name": "stderr",
     "output_type": "stream",
     "text": [
      "/home/maxtopel/anaconda3/lib/python3.7/site-packages/torch/nn/_reduction.py:14: UserWarning: reduction='elementwise_mean' is deprecated, please use reduction='mean' instead.\n",
      "  warnings.warn(\"reduction='elementwise_mean' is deprecated, please use reduction='mean' instead.\")\n"
     ]
    },
    {
     "name": "stdout",
     "output_type": "stream",
     "text": [
      "\tProcessed model 9/80\n"
     ]
    },
    {
     "name": "stderr",
     "output_type": "stream",
     "text": [
      "/home/maxtopel/anaconda3/lib/python3.7/site-packages/torch/nn/_reduction.py:14: UserWarning: reduction='elementwise_mean' is deprecated, please use reduction='mean' instead.\n",
      "  warnings.warn(\"reduction='elementwise_mean' is deprecated, please use reduction='mean' instead.\")\n"
     ]
    },
    {
     "name": "stdout",
     "output_type": "stream",
     "text": [
      "\tProcessed model 10/80\n"
     ]
    },
    {
     "name": "stderr",
     "output_type": "stream",
     "text": [
      "/home/maxtopel/anaconda3/lib/python3.7/site-packages/torch/nn/_reduction.py:14: UserWarning: reduction='elementwise_mean' is deprecated, please use reduction='mean' instead.\n",
      "  warnings.warn(\"reduction='elementwise_mean' is deprecated, please use reduction='mean' instead.\")\n"
     ]
    },
    {
     "name": "stdout",
     "output_type": "stream",
     "text": [
      "\tProcessed model 11/80\n"
     ]
    },
    {
     "name": "stderr",
     "output_type": "stream",
     "text": [
      "/home/maxtopel/anaconda3/lib/python3.7/site-packages/torch/nn/_reduction.py:14: UserWarning: reduction='elementwise_mean' is deprecated, please use reduction='mean' instead.\n",
      "  warnings.warn(\"reduction='elementwise_mean' is deprecated, please use reduction='mean' instead.\")\n"
     ]
    },
    {
     "name": "stdout",
     "output_type": "stream",
     "text": [
      "\tProcessed model 12/80\n"
     ]
    },
    {
     "name": "stderr",
     "output_type": "stream",
     "text": [
      "/home/maxtopel/anaconda3/lib/python3.7/site-packages/torch/nn/_reduction.py:14: UserWarning: reduction='elementwise_mean' is deprecated, please use reduction='mean' instead.\n",
      "  warnings.warn(\"reduction='elementwise_mean' is deprecated, please use reduction='mean' instead.\")\n"
     ]
    },
    {
     "name": "stdout",
     "output_type": "stream",
     "text": [
      "\tProcessed model 13/80\n"
     ]
    },
    {
     "name": "stderr",
     "output_type": "stream",
     "text": [
      "/home/maxtopel/anaconda3/lib/python3.7/site-packages/torch/nn/_reduction.py:14: UserWarning: reduction='elementwise_mean' is deprecated, please use reduction='mean' instead.\n",
      "  warnings.warn(\"reduction='elementwise_mean' is deprecated, please use reduction='mean' instead.\")\n"
     ]
    },
    {
     "name": "stdout",
     "output_type": "stream",
     "text": [
      "\tProcessed model 14/80\n"
     ]
    },
    {
     "name": "stderr",
     "output_type": "stream",
     "text": [
      "/home/maxtopel/anaconda3/lib/python3.7/site-packages/torch/nn/_reduction.py:14: UserWarning: reduction='elementwise_mean' is deprecated, please use reduction='mean' instead.\n",
      "  warnings.warn(\"reduction='elementwise_mean' is deprecated, please use reduction='mean' instead.\")\n"
     ]
    },
    {
     "name": "stdout",
     "output_type": "stream",
     "text": [
      "\tProcessed model 15/80\n"
     ]
    },
    {
     "name": "stderr",
     "output_type": "stream",
     "text": [
      "/home/maxtopel/anaconda3/lib/python3.7/site-packages/torch/nn/_reduction.py:14: UserWarning: reduction='elementwise_mean' is deprecated, please use reduction='mean' instead.\n",
      "  warnings.warn(\"reduction='elementwise_mean' is deprecated, please use reduction='mean' instead.\")\n"
     ]
    },
    {
     "name": "stdout",
     "output_type": "stream",
     "text": [
      "\tProcessed model 16/80\n"
     ]
    },
    {
     "name": "stderr",
     "output_type": "stream",
     "text": [
      "/home/maxtopel/anaconda3/lib/python3.7/site-packages/torch/nn/_reduction.py:14: UserWarning: reduction='elementwise_mean' is deprecated, please use reduction='mean' instead.\n",
      "  warnings.warn(\"reduction='elementwise_mean' is deprecated, please use reduction='mean' instead.\")\n"
     ]
    },
    {
     "name": "stdout",
     "output_type": "stream",
     "text": [
      "\tProcessed model 17/80\n"
     ]
    },
    {
     "name": "stderr",
     "output_type": "stream",
     "text": [
      "/home/maxtopel/anaconda3/lib/python3.7/site-packages/torch/nn/_reduction.py:14: UserWarning: reduction='elementwise_mean' is deprecated, please use reduction='mean' instead.\n",
      "  warnings.warn(\"reduction='elementwise_mean' is deprecated, please use reduction='mean' instead.\")\n"
     ]
    },
    {
     "name": "stdout",
     "output_type": "stream",
     "text": [
      "\tProcessed model 18/80\n"
     ]
    },
    {
     "name": "stderr",
     "output_type": "stream",
     "text": [
      "/home/maxtopel/anaconda3/lib/python3.7/site-packages/torch/nn/_reduction.py:14: UserWarning: reduction='elementwise_mean' is deprecated, please use reduction='mean' instead.\n",
      "  warnings.warn(\"reduction='elementwise_mean' is deprecated, please use reduction='mean' instead.\")\n"
     ]
    },
    {
     "name": "stdout",
     "output_type": "stream",
     "text": [
      "\tProcessed model 19/80\n"
     ]
    },
    {
     "name": "stderr",
     "output_type": "stream",
     "text": [
      "/home/maxtopel/anaconda3/lib/python3.7/site-packages/torch/nn/_reduction.py:14: UserWarning: reduction='elementwise_mean' is deprecated, please use reduction='mean' instead.\n",
      "  warnings.warn(\"reduction='elementwise_mean' is deprecated, please use reduction='mean' instead.\")\n"
     ]
    },
    {
     "name": "stdout",
     "output_type": "stream",
     "text": [
      "\tProcessed model 20/80\n"
     ]
    },
    {
     "name": "stderr",
     "output_type": "stream",
     "text": [
      "/home/maxtopel/anaconda3/lib/python3.7/site-packages/torch/nn/_reduction.py:14: UserWarning: reduction='elementwise_mean' is deprecated, please use reduction='mean' instead.\n",
      "  warnings.warn(\"reduction='elementwise_mean' is deprecated, please use reduction='mean' instead.\")\n"
     ]
    },
    {
     "name": "stdout",
     "output_type": "stream",
     "text": [
      "\tProcessed model 21/80\n"
     ]
    },
    {
     "name": "stderr",
     "output_type": "stream",
     "text": [
      "/home/maxtopel/anaconda3/lib/python3.7/site-packages/torch/nn/_reduction.py:14: UserWarning: reduction='elementwise_mean' is deprecated, please use reduction='mean' instead.\n",
      "  warnings.warn(\"reduction='elementwise_mean' is deprecated, please use reduction='mean' instead.\")\n"
     ]
    },
    {
     "name": "stdout",
     "output_type": "stream",
     "text": [
      "\tProcessed model 22/80\n"
     ]
    },
    {
     "name": "stderr",
     "output_type": "stream",
     "text": [
      "/home/maxtopel/anaconda3/lib/python3.7/site-packages/torch/nn/_reduction.py:14: UserWarning: reduction='elementwise_mean' is deprecated, please use reduction='mean' instead.\n",
      "  warnings.warn(\"reduction='elementwise_mean' is deprecated, please use reduction='mean' instead.\")\n"
     ]
    },
    {
     "name": "stdout",
     "output_type": "stream",
     "text": [
      "\tProcessed model 23/80\n"
     ]
    },
    {
     "name": "stderr",
     "output_type": "stream",
     "text": [
      "/home/maxtopel/anaconda3/lib/python3.7/site-packages/torch/nn/_reduction.py:14: UserWarning: reduction='elementwise_mean' is deprecated, please use reduction='mean' instead.\n",
      "  warnings.warn(\"reduction='elementwise_mean' is deprecated, please use reduction='mean' instead.\")\n"
     ]
    },
    {
     "name": "stdout",
     "output_type": "stream",
     "text": [
      "\tProcessed model 24/80\n"
     ]
    },
    {
     "name": "stderr",
     "output_type": "stream",
     "text": [
      "/home/maxtopel/anaconda3/lib/python3.7/site-packages/torch/nn/_reduction.py:14: UserWarning: reduction='elementwise_mean' is deprecated, please use reduction='mean' instead.\n",
      "  warnings.warn(\"reduction='elementwise_mean' is deprecated, please use reduction='mean' instead.\")\n"
     ]
    },
    {
     "name": "stdout",
     "output_type": "stream",
     "text": [
      "\tProcessed model 25/80\n"
     ]
    },
    {
     "name": "stderr",
     "output_type": "stream",
     "text": [
      "/home/maxtopel/anaconda3/lib/python3.7/site-packages/torch/nn/_reduction.py:14: UserWarning: reduction='elementwise_mean' is deprecated, please use reduction='mean' instead.\n",
      "  warnings.warn(\"reduction='elementwise_mean' is deprecated, please use reduction='mean' instead.\")\n"
     ]
    },
    {
     "name": "stdout",
     "output_type": "stream",
     "text": [
      "\tProcessed model 26/80\n"
     ]
    },
    {
     "name": "stderr",
     "output_type": "stream",
     "text": [
      "/home/maxtopel/anaconda3/lib/python3.7/site-packages/torch/nn/_reduction.py:14: UserWarning: reduction='elementwise_mean' is deprecated, please use reduction='mean' instead.\n",
      "  warnings.warn(\"reduction='elementwise_mean' is deprecated, please use reduction='mean' instead.\")\n"
     ]
    },
    {
     "name": "stdout",
     "output_type": "stream",
     "text": [
      "\tProcessed model 27/80\n"
     ]
    },
    {
     "name": "stderr",
     "output_type": "stream",
     "text": [
      "/home/maxtopel/anaconda3/lib/python3.7/site-packages/torch/nn/_reduction.py:14: UserWarning: reduction='elementwise_mean' is deprecated, please use reduction='mean' instead.\n",
      "  warnings.warn(\"reduction='elementwise_mean' is deprecated, please use reduction='mean' instead.\")\n"
     ]
    },
    {
     "name": "stdout",
     "output_type": "stream",
     "text": [
      "\tProcessed model 28/80\n"
     ]
    },
    {
     "name": "stderr",
     "output_type": "stream",
     "text": [
      "/home/maxtopel/anaconda3/lib/python3.7/site-packages/torch/nn/_reduction.py:14: UserWarning: reduction='elementwise_mean' is deprecated, please use reduction='mean' instead.\n",
      "  warnings.warn(\"reduction='elementwise_mean' is deprecated, please use reduction='mean' instead.\")\n"
     ]
    },
    {
     "name": "stdout",
     "output_type": "stream",
     "text": [
      "\tProcessed model 29/80\n"
     ]
    },
    {
     "name": "stderr",
     "output_type": "stream",
     "text": [
      "/home/maxtopel/anaconda3/lib/python3.7/site-packages/torch/nn/_reduction.py:14: UserWarning: reduction='elementwise_mean' is deprecated, please use reduction='mean' instead.\n",
      "  warnings.warn(\"reduction='elementwise_mean' is deprecated, please use reduction='mean' instead.\")\n"
     ]
    },
    {
     "name": "stdout",
     "output_type": "stream",
     "text": [
      "\tProcessed model 30/80\n"
     ]
    },
    {
     "name": "stderr",
     "output_type": "stream",
     "text": [
      "/home/maxtopel/anaconda3/lib/python3.7/site-packages/torch/nn/_reduction.py:14: UserWarning: reduction='elementwise_mean' is deprecated, please use reduction='mean' instead.\n",
      "  warnings.warn(\"reduction='elementwise_mean' is deprecated, please use reduction='mean' instead.\")\n"
     ]
    },
    {
     "name": "stdout",
     "output_type": "stream",
     "text": [
      "\tProcessed model 31/80\n"
     ]
    },
    {
     "name": "stderr",
     "output_type": "stream",
     "text": [
      "/home/maxtopel/anaconda3/lib/python3.7/site-packages/torch/nn/_reduction.py:14: UserWarning: reduction='elementwise_mean' is deprecated, please use reduction='mean' instead.\n",
      "  warnings.warn(\"reduction='elementwise_mean' is deprecated, please use reduction='mean' instead.\")\n"
     ]
    },
    {
     "name": "stdout",
     "output_type": "stream",
     "text": [
      "\tProcessed model 32/80\n"
     ]
    },
    {
     "name": "stderr",
     "output_type": "stream",
     "text": [
      "/home/maxtopel/anaconda3/lib/python3.7/site-packages/torch/nn/_reduction.py:14: UserWarning: reduction='elementwise_mean' is deprecated, please use reduction='mean' instead.\n",
      "  warnings.warn(\"reduction='elementwise_mean' is deprecated, please use reduction='mean' instead.\")\n"
     ]
    },
    {
     "name": "stdout",
     "output_type": "stream",
     "text": [
      "\tProcessed model 33/80\n"
     ]
    },
    {
     "name": "stderr",
     "output_type": "stream",
     "text": [
      "/home/maxtopel/anaconda3/lib/python3.7/site-packages/torch/nn/_reduction.py:14: UserWarning: reduction='elementwise_mean' is deprecated, please use reduction='mean' instead.\n",
      "  warnings.warn(\"reduction='elementwise_mean' is deprecated, please use reduction='mean' instead.\")\n"
     ]
    },
    {
     "name": "stdout",
     "output_type": "stream",
     "text": [
      "\tProcessed model 34/80\n"
     ]
    },
    {
     "name": "stderr",
     "output_type": "stream",
     "text": [
      "/home/maxtopel/anaconda3/lib/python3.7/site-packages/torch/nn/_reduction.py:14: UserWarning: reduction='elementwise_mean' is deprecated, please use reduction='mean' instead.\n",
      "  warnings.warn(\"reduction='elementwise_mean' is deprecated, please use reduction='mean' instead.\")\n"
     ]
    },
    {
     "name": "stdout",
     "output_type": "stream",
     "text": [
      "\tProcessed model 35/80\n"
     ]
    },
    {
     "name": "stderr",
     "output_type": "stream",
     "text": [
      "/home/maxtopel/anaconda3/lib/python3.7/site-packages/torch/nn/_reduction.py:14: UserWarning: reduction='elementwise_mean' is deprecated, please use reduction='mean' instead.\n",
      "  warnings.warn(\"reduction='elementwise_mean' is deprecated, please use reduction='mean' instead.\")\n"
     ]
    },
    {
     "name": "stdout",
     "output_type": "stream",
     "text": [
      "\tProcessed model 36/80\n"
     ]
    },
    {
     "name": "stderr",
     "output_type": "stream",
     "text": [
      "/home/maxtopel/anaconda3/lib/python3.7/site-packages/torch/nn/_reduction.py:14: UserWarning: reduction='elementwise_mean' is deprecated, please use reduction='mean' instead.\n",
      "  warnings.warn(\"reduction='elementwise_mean' is deprecated, please use reduction='mean' instead.\")\n"
     ]
    },
    {
     "name": "stdout",
     "output_type": "stream",
     "text": [
      "\tProcessed model 37/80\n"
     ]
    },
    {
     "name": "stderr",
     "output_type": "stream",
     "text": [
      "/home/maxtopel/anaconda3/lib/python3.7/site-packages/torch/nn/_reduction.py:14: UserWarning: reduction='elementwise_mean' is deprecated, please use reduction='mean' instead.\n",
      "  warnings.warn(\"reduction='elementwise_mean' is deprecated, please use reduction='mean' instead.\")\n"
     ]
    },
    {
     "name": "stdout",
     "output_type": "stream",
     "text": [
      "\tProcessed model 38/80\n"
     ]
    },
    {
     "name": "stderr",
     "output_type": "stream",
     "text": [
      "/home/maxtopel/anaconda3/lib/python3.7/site-packages/torch/nn/_reduction.py:14: UserWarning: reduction='elementwise_mean' is deprecated, please use reduction='mean' instead.\n",
      "  warnings.warn(\"reduction='elementwise_mean' is deprecated, please use reduction='mean' instead.\")\n"
     ]
    },
    {
     "name": "stdout",
     "output_type": "stream",
     "text": [
      "\tProcessed model 39/80\n"
     ]
    },
    {
     "name": "stderr",
     "output_type": "stream",
     "text": [
      "/home/maxtopel/anaconda3/lib/python3.7/site-packages/torch/nn/_reduction.py:14: UserWarning: reduction='elementwise_mean' is deprecated, please use reduction='mean' instead.\n",
      "  warnings.warn(\"reduction='elementwise_mean' is deprecated, please use reduction='mean' instead.\")\n"
     ]
    },
    {
     "name": "stdout",
     "output_type": "stream",
     "text": [
      "\tProcessed model 40/80\n"
     ]
    },
    {
     "name": "stderr",
     "output_type": "stream",
     "text": [
      "/home/maxtopel/anaconda3/lib/python3.7/site-packages/torch/nn/_reduction.py:14: UserWarning: reduction='elementwise_mean' is deprecated, please use reduction='mean' instead.\n",
      "  warnings.warn(\"reduction='elementwise_mean' is deprecated, please use reduction='mean' instead.\")\n"
     ]
    },
    {
     "name": "stdout",
     "output_type": "stream",
     "text": [
      "\tProcessed model 41/80\n"
     ]
    },
    {
     "name": "stderr",
     "output_type": "stream",
     "text": [
      "/home/maxtopel/anaconda3/lib/python3.7/site-packages/torch/nn/_reduction.py:14: UserWarning: reduction='elementwise_mean' is deprecated, please use reduction='mean' instead.\n",
      "  warnings.warn(\"reduction='elementwise_mean' is deprecated, please use reduction='mean' instead.\")\n"
     ]
    },
    {
     "name": "stdout",
     "output_type": "stream",
     "text": [
      "\tProcessed model 42/80\n"
     ]
    },
    {
     "name": "stderr",
     "output_type": "stream",
     "text": [
      "/home/maxtopel/anaconda3/lib/python3.7/site-packages/torch/nn/_reduction.py:14: UserWarning: reduction='elementwise_mean' is deprecated, please use reduction='mean' instead.\n",
      "  warnings.warn(\"reduction='elementwise_mean' is deprecated, please use reduction='mean' instead.\")\n"
     ]
    },
    {
     "name": "stdout",
     "output_type": "stream",
     "text": [
      "\tProcessed model 43/80\n"
     ]
    },
    {
     "name": "stderr",
     "output_type": "stream",
     "text": [
      "/home/maxtopel/anaconda3/lib/python3.7/site-packages/torch/nn/_reduction.py:14: UserWarning: reduction='elementwise_mean' is deprecated, please use reduction='mean' instead.\n",
      "  warnings.warn(\"reduction='elementwise_mean' is deprecated, please use reduction='mean' instead.\")\n"
     ]
    },
    {
     "name": "stdout",
     "output_type": "stream",
     "text": [
      "\tProcessed model 44/80\n"
     ]
    },
    {
     "name": "stderr",
     "output_type": "stream",
     "text": [
      "/home/maxtopel/anaconda3/lib/python3.7/site-packages/torch/nn/_reduction.py:14: UserWarning: reduction='elementwise_mean' is deprecated, please use reduction='mean' instead.\n",
      "  warnings.warn(\"reduction='elementwise_mean' is deprecated, please use reduction='mean' instead.\")\n"
     ]
    },
    {
     "name": "stdout",
     "output_type": "stream",
     "text": [
      "\tProcessed model 45/80\n"
     ]
    },
    {
     "name": "stderr",
     "output_type": "stream",
     "text": [
      "/home/maxtopel/anaconda3/lib/python3.7/site-packages/torch/nn/_reduction.py:14: UserWarning: reduction='elementwise_mean' is deprecated, please use reduction='mean' instead.\n",
      "  warnings.warn(\"reduction='elementwise_mean' is deprecated, please use reduction='mean' instead.\")\n"
     ]
    },
    {
     "name": "stdout",
     "output_type": "stream",
     "text": [
      "\tProcessed model 46/80\n"
     ]
    },
    {
     "name": "stderr",
     "output_type": "stream",
     "text": [
      "/home/maxtopel/anaconda3/lib/python3.7/site-packages/torch/nn/_reduction.py:14: UserWarning: reduction='elementwise_mean' is deprecated, please use reduction='mean' instead.\n",
      "  warnings.warn(\"reduction='elementwise_mean' is deprecated, please use reduction='mean' instead.\")\n"
     ]
    },
    {
     "name": "stdout",
     "output_type": "stream",
     "text": [
      "\tProcessed model 47/80\n"
     ]
    },
    {
     "name": "stderr",
     "output_type": "stream",
     "text": [
      "/home/maxtopel/anaconda3/lib/python3.7/site-packages/torch/nn/_reduction.py:14: UserWarning: reduction='elementwise_mean' is deprecated, please use reduction='mean' instead.\n",
      "  warnings.warn(\"reduction='elementwise_mean' is deprecated, please use reduction='mean' instead.\")\n"
     ]
    },
    {
     "name": "stdout",
     "output_type": "stream",
     "text": [
      "\tProcessed model 48/80\n"
     ]
    },
    {
     "name": "stderr",
     "output_type": "stream",
     "text": [
      "/home/maxtopel/anaconda3/lib/python3.7/site-packages/torch/nn/_reduction.py:14: UserWarning: reduction='elementwise_mean' is deprecated, please use reduction='mean' instead.\n",
      "  warnings.warn(\"reduction='elementwise_mean' is deprecated, please use reduction='mean' instead.\")\n"
     ]
    },
    {
     "name": "stdout",
     "output_type": "stream",
     "text": [
      "\tProcessed model 49/80\n"
     ]
    },
    {
     "name": "stderr",
     "output_type": "stream",
     "text": [
      "/home/maxtopel/anaconda3/lib/python3.7/site-packages/torch/nn/_reduction.py:14: UserWarning: reduction='elementwise_mean' is deprecated, please use reduction='mean' instead.\n",
      "  warnings.warn(\"reduction='elementwise_mean' is deprecated, please use reduction='mean' instead.\")\n"
     ]
    },
    {
     "name": "stdout",
     "output_type": "stream",
     "text": [
      "\tProcessed model 50/80\n"
     ]
    },
    {
     "name": "stderr",
     "output_type": "stream",
     "text": [
      "/home/maxtopel/anaconda3/lib/python3.7/site-packages/torch/nn/_reduction.py:14: UserWarning: reduction='elementwise_mean' is deprecated, please use reduction='mean' instead.\n",
      "  warnings.warn(\"reduction='elementwise_mean' is deprecated, please use reduction='mean' instead.\")\n"
     ]
    },
    {
     "name": "stdout",
     "output_type": "stream",
     "text": [
      "\tProcessed model 51/80\n"
     ]
    },
    {
     "name": "stderr",
     "output_type": "stream",
     "text": [
      "/home/maxtopel/anaconda3/lib/python3.7/site-packages/torch/nn/_reduction.py:14: UserWarning: reduction='elementwise_mean' is deprecated, please use reduction='mean' instead.\n",
      "  warnings.warn(\"reduction='elementwise_mean' is deprecated, please use reduction='mean' instead.\")\n"
     ]
    },
    {
     "name": "stdout",
     "output_type": "stream",
     "text": [
      "\tProcessed model 52/80\n"
     ]
    },
    {
     "name": "stderr",
     "output_type": "stream",
     "text": [
      "/home/maxtopel/anaconda3/lib/python3.7/site-packages/torch/nn/_reduction.py:14: UserWarning: reduction='elementwise_mean' is deprecated, please use reduction='mean' instead.\n",
      "  warnings.warn(\"reduction='elementwise_mean' is deprecated, please use reduction='mean' instead.\")\n"
     ]
    },
    {
     "name": "stdout",
     "output_type": "stream",
     "text": [
      "\tProcessed model 53/80\n"
     ]
    },
    {
     "name": "stderr",
     "output_type": "stream",
     "text": [
      "/home/maxtopel/anaconda3/lib/python3.7/site-packages/torch/nn/_reduction.py:14: UserWarning: reduction='elementwise_mean' is deprecated, please use reduction='mean' instead.\n",
      "  warnings.warn(\"reduction='elementwise_mean' is deprecated, please use reduction='mean' instead.\")\n"
     ]
    },
    {
     "name": "stdout",
     "output_type": "stream",
     "text": [
      "\tProcessed model 54/80\n"
     ]
    },
    {
     "name": "stderr",
     "output_type": "stream",
     "text": [
      "/home/maxtopel/anaconda3/lib/python3.7/site-packages/torch/nn/_reduction.py:14: UserWarning: reduction='elementwise_mean' is deprecated, please use reduction='mean' instead.\n",
      "  warnings.warn(\"reduction='elementwise_mean' is deprecated, please use reduction='mean' instead.\")\n"
     ]
    },
    {
     "name": "stdout",
     "output_type": "stream",
     "text": [
      "\tProcessed model 55/80\n"
     ]
    },
    {
     "name": "stderr",
     "output_type": "stream",
     "text": [
      "/home/maxtopel/anaconda3/lib/python3.7/site-packages/torch/nn/_reduction.py:14: UserWarning: reduction='elementwise_mean' is deprecated, please use reduction='mean' instead.\n",
      "  warnings.warn(\"reduction='elementwise_mean' is deprecated, please use reduction='mean' instead.\")\n"
     ]
    },
    {
     "name": "stdout",
     "output_type": "stream",
     "text": [
      "\tProcessed model 56/80\n"
     ]
    },
    {
     "name": "stderr",
     "output_type": "stream",
     "text": [
      "/home/maxtopel/anaconda3/lib/python3.7/site-packages/torch/nn/_reduction.py:14: UserWarning: reduction='elementwise_mean' is deprecated, please use reduction='mean' instead.\n",
      "  warnings.warn(\"reduction='elementwise_mean' is deprecated, please use reduction='mean' instead.\")\n"
     ]
    },
    {
     "name": "stdout",
     "output_type": "stream",
     "text": [
      "\tProcessed model 57/80\n"
     ]
    },
    {
     "name": "stderr",
     "output_type": "stream",
     "text": [
      "/home/maxtopel/anaconda3/lib/python3.7/site-packages/torch/nn/_reduction.py:14: UserWarning: reduction='elementwise_mean' is deprecated, please use reduction='mean' instead.\n",
      "  warnings.warn(\"reduction='elementwise_mean' is deprecated, please use reduction='mean' instead.\")\n"
     ]
    },
    {
     "name": "stdout",
     "output_type": "stream",
     "text": [
      "\tProcessed model 58/80\n"
     ]
    },
    {
     "name": "stderr",
     "output_type": "stream",
     "text": [
      "/home/maxtopel/anaconda3/lib/python3.7/site-packages/torch/nn/_reduction.py:14: UserWarning: reduction='elementwise_mean' is deprecated, please use reduction='mean' instead.\n",
      "  warnings.warn(\"reduction='elementwise_mean' is deprecated, please use reduction='mean' instead.\")\n"
     ]
    },
    {
     "name": "stdout",
     "output_type": "stream",
     "text": [
      "\tProcessed model 59/80\n"
     ]
    },
    {
     "name": "stderr",
     "output_type": "stream",
     "text": [
      "/home/maxtopel/anaconda3/lib/python3.7/site-packages/torch/nn/_reduction.py:14: UserWarning: reduction='elementwise_mean' is deprecated, please use reduction='mean' instead.\n",
      "  warnings.warn(\"reduction='elementwise_mean' is deprecated, please use reduction='mean' instead.\")\n"
     ]
    },
    {
     "name": "stdout",
     "output_type": "stream",
     "text": [
      "\tProcessed model 60/80\n"
     ]
    },
    {
     "name": "stderr",
     "output_type": "stream",
     "text": [
      "/home/maxtopel/anaconda3/lib/python3.7/site-packages/torch/nn/_reduction.py:14: UserWarning: reduction='elementwise_mean' is deprecated, please use reduction='mean' instead.\n",
      "  warnings.warn(\"reduction='elementwise_mean' is deprecated, please use reduction='mean' instead.\")\n"
     ]
    },
    {
     "name": "stdout",
     "output_type": "stream",
     "text": [
      "\tProcessed model 61/80\n"
     ]
    },
    {
     "name": "stderr",
     "output_type": "stream",
     "text": [
      "/home/maxtopel/anaconda3/lib/python3.7/site-packages/torch/nn/_reduction.py:14: UserWarning: reduction='elementwise_mean' is deprecated, please use reduction='mean' instead.\n",
      "  warnings.warn(\"reduction='elementwise_mean' is deprecated, please use reduction='mean' instead.\")\n"
     ]
    },
    {
     "name": "stdout",
     "output_type": "stream",
     "text": [
      "\tProcessed model 62/80\n"
     ]
    },
    {
     "name": "stderr",
     "output_type": "stream",
     "text": [
      "/home/maxtopel/anaconda3/lib/python3.7/site-packages/torch/nn/_reduction.py:14: UserWarning: reduction='elementwise_mean' is deprecated, please use reduction='mean' instead.\n",
      "  warnings.warn(\"reduction='elementwise_mean' is deprecated, please use reduction='mean' instead.\")\n"
     ]
    },
    {
     "name": "stdout",
     "output_type": "stream",
     "text": [
      "\tProcessed model 63/80\n"
     ]
    },
    {
     "name": "stderr",
     "output_type": "stream",
     "text": [
      "/home/maxtopel/anaconda3/lib/python3.7/site-packages/torch/nn/_reduction.py:14: UserWarning: reduction='elementwise_mean' is deprecated, please use reduction='mean' instead.\n",
      "  warnings.warn(\"reduction='elementwise_mean' is deprecated, please use reduction='mean' instead.\")\n"
     ]
    },
    {
     "name": "stdout",
     "output_type": "stream",
     "text": [
      "\tProcessed model 64/80\n"
     ]
    },
    {
     "name": "stderr",
     "output_type": "stream",
     "text": [
      "/home/maxtopel/anaconda3/lib/python3.7/site-packages/torch/nn/_reduction.py:14: UserWarning: reduction='elementwise_mean' is deprecated, please use reduction='mean' instead.\n",
      "  warnings.warn(\"reduction='elementwise_mean' is deprecated, please use reduction='mean' instead.\")\n"
     ]
    },
    {
     "name": "stdout",
     "output_type": "stream",
     "text": [
      "\tProcessed model 65/80\n"
     ]
    },
    {
     "name": "stderr",
     "output_type": "stream",
     "text": [
      "/home/maxtopel/anaconda3/lib/python3.7/site-packages/torch/nn/_reduction.py:14: UserWarning: reduction='elementwise_mean' is deprecated, please use reduction='mean' instead.\n",
      "  warnings.warn(\"reduction='elementwise_mean' is deprecated, please use reduction='mean' instead.\")\n"
     ]
    },
    {
     "name": "stdout",
     "output_type": "stream",
     "text": [
      "\tProcessed model 66/80\n"
     ]
    },
    {
     "name": "stderr",
     "output_type": "stream",
     "text": [
      "/home/maxtopel/anaconda3/lib/python3.7/site-packages/torch/nn/_reduction.py:14: UserWarning: reduction='elementwise_mean' is deprecated, please use reduction='mean' instead.\n",
      "  warnings.warn(\"reduction='elementwise_mean' is deprecated, please use reduction='mean' instead.\")\n"
     ]
    },
    {
     "name": "stdout",
     "output_type": "stream",
     "text": [
      "\tProcessed model 67/80\n"
     ]
    },
    {
     "name": "stderr",
     "output_type": "stream",
     "text": [
      "/home/maxtopel/anaconda3/lib/python3.7/site-packages/torch/nn/_reduction.py:14: UserWarning: reduction='elementwise_mean' is deprecated, please use reduction='mean' instead.\n",
      "  warnings.warn(\"reduction='elementwise_mean' is deprecated, please use reduction='mean' instead.\")\n"
     ]
    },
    {
     "name": "stdout",
     "output_type": "stream",
     "text": [
      "\tProcessed model 68/80\n"
     ]
    },
    {
     "name": "stderr",
     "output_type": "stream",
     "text": [
      "/home/maxtopel/anaconda3/lib/python3.7/site-packages/torch/nn/_reduction.py:14: UserWarning: reduction='elementwise_mean' is deprecated, please use reduction='mean' instead.\n",
      "  warnings.warn(\"reduction='elementwise_mean' is deprecated, please use reduction='mean' instead.\")\n"
     ]
    },
    {
     "name": "stdout",
     "output_type": "stream",
     "text": [
      "\tProcessed model 69/80\n"
     ]
    },
    {
     "name": "stderr",
     "output_type": "stream",
     "text": [
      "/home/maxtopel/anaconda3/lib/python3.7/site-packages/torch/nn/_reduction.py:14: UserWarning: reduction='elementwise_mean' is deprecated, please use reduction='mean' instead.\n",
      "  warnings.warn(\"reduction='elementwise_mean' is deprecated, please use reduction='mean' instead.\")\n"
     ]
    },
    {
     "name": "stdout",
     "output_type": "stream",
     "text": [
      "\tProcessed model 70/80\n"
     ]
    },
    {
     "name": "stderr",
     "output_type": "stream",
     "text": [
      "/home/maxtopel/anaconda3/lib/python3.7/site-packages/torch/nn/_reduction.py:14: UserWarning: reduction='elementwise_mean' is deprecated, please use reduction='mean' instead.\n",
      "  warnings.warn(\"reduction='elementwise_mean' is deprecated, please use reduction='mean' instead.\")\n"
     ]
    },
    {
     "name": "stdout",
     "output_type": "stream",
     "text": [
      "\tProcessed model 71/80\n"
     ]
    },
    {
     "name": "stderr",
     "output_type": "stream",
     "text": [
      "/home/maxtopel/anaconda3/lib/python3.7/site-packages/torch/nn/_reduction.py:14: UserWarning: reduction='elementwise_mean' is deprecated, please use reduction='mean' instead.\n",
      "  warnings.warn(\"reduction='elementwise_mean' is deprecated, please use reduction='mean' instead.\")\n"
     ]
    },
    {
     "name": "stdout",
     "output_type": "stream",
     "text": [
      "\tProcessed model 72/80\n"
     ]
    },
    {
     "name": "stderr",
     "output_type": "stream",
     "text": [
      "/home/maxtopel/anaconda3/lib/python3.7/site-packages/torch/nn/_reduction.py:14: UserWarning: reduction='elementwise_mean' is deprecated, please use reduction='mean' instead.\n",
      "  warnings.warn(\"reduction='elementwise_mean' is deprecated, please use reduction='mean' instead.\")\n"
     ]
    },
    {
     "name": "stdout",
     "output_type": "stream",
     "text": [
      "\tProcessed model 73/80\n"
     ]
    },
    {
     "name": "stderr",
     "output_type": "stream",
     "text": [
      "/home/maxtopel/anaconda3/lib/python3.7/site-packages/torch/nn/_reduction.py:14: UserWarning: reduction='elementwise_mean' is deprecated, please use reduction='mean' instead.\n",
      "  warnings.warn(\"reduction='elementwise_mean' is deprecated, please use reduction='mean' instead.\")\n"
     ]
    },
    {
     "name": "stdout",
     "output_type": "stream",
     "text": [
      "\tProcessed model 74/80\n"
     ]
    },
    {
     "name": "stderr",
     "output_type": "stream",
     "text": [
      "/home/maxtopel/anaconda3/lib/python3.7/site-packages/torch/nn/_reduction.py:14: UserWarning: reduction='elementwise_mean' is deprecated, please use reduction='mean' instead.\n",
      "  warnings.warn(\"reduction='elementwise_mean' is deprecated, please use reduction='mean' instead.\")\n"
     ]
    },
    {
     "name": "stdout",
     "output_type": "stream",
     "text": [
      "\tProcessed model 75/80\n"
     ]
    },
    {
     "name": "stderr",
     "output_type": "stream",
     "text": [
      "/home/maxtopel/anaconda3/lib/python3.7/site-packages/torch/nn/_reduction.py:14: UserWarning: reduction='elementwise_mean' is deprecated, please use reduction='mean' instead.\n",
      "  warnings.warn(\"reduction='elementwise_mean' is deprecated, please use reduction='mean' instead.\")\n"
     ]
    },
    {
     "name": "stdout",
     "output_type": "stream",
     "text": [
      "\tProcessed model 76/80\n"
     ]
    },
    {
     "name": "stderr",
     "output_type": "stream",
     "text": [
      "/home/maxtopel/anaconda3/lib/python3.7/site-packages/torch/nn/_reduction.py:14: UserWarning: reduction='elementwise_mean' is deprecated, please use reduction='mean' instead.\n",
      "  warnings.warn(\"reduction='elementwise_mean' is deprecated, please use reduction='mean' instead.\")\n"
     ]
    },
    {
     "name": "stdout",
     "output_type": "stream",
     "text": [
      "\tProcessed model 77/80\n"
     ]
    },
    {
     "name": "stderr",
     "output_type": "stream",
     "text": [
      "/home/maxtopel/anaconda3/lib/python3.7/site-packages/torch/nn/_reduction.py:14: UserWarning: reduction='elementwise_mean' is deprecated, please use reduction='mean' instead.\n",
      "  warnings.warn(\"reduction='elementwise_mean' is deprecated, please use reduction='mean' instead.\")\n"
     ]
    },
    {
     "name": "stdout",
     "output_type": "stream",
     "text": [
      "\tProcessed model 78/80\n"
     ]
    },
    {
     "name": "stderr",
     "output_type": "stream",
     "text": [
      "/home/maxtopel/anaconda3/lib/python3.7/site-packages/torch/nn/_reduction.py:14: UserWarning: reduction='elementwise_mean' is deprecated, please use reduction='mean' instead.\n",
      "  warnings.warn(\"reduction='elementwise_mean' is deprecated, please use reduction='mean' instead.\")\n"
     ]
    },
    {
     "name": "stdout",
     "output_type": "stream",
     "text": [
      "\tProcessed model 79/80\n"
     ]
    },
    {
     "name": "stderr",
     "output_type": "stream",
     "text": [
      "/home/maxtopel/anaconda3/lib/python3.7/site-packages/torch/nn/_reduction.py:14: UserWarning: reduction='elementwise_mean' is deprecated, please use reduction='mean' instead.\n",
      "  warnings.warn(\"reduction='elementwise_mean' is deprecated, please use reduction='mean' instead.\")\n"
     ]
    },
    {
     "name": "stdout",
     "output_type": "stream",
     "text": [
      "\tProcessed model 80/80\n"
     ]
    }
   ],
   "source": [
    "tau = [1,5,10,25,50]\n",
    "\n",
    "Dvec = [40000,20000,10000,1000] #20000,10000,1000\n",
    "#,20000,10000,1000\n",
    "\n",
    "\n",
    "#no of observed photons\n",
    "#Photon_No  = [0,1000000,100000,10000,1000]\n",
    "\n",
    "Photon_No  = [0,1000000,100000,10000]#,100000,10000,1000]\n",
    "\n",
    "\n",
    "\n",
    "iii = 0\n",
    "\n",
    "\n",
    "\n",
    "for Dv in Dvec:\n",
    "    for t in tau:\n",
    "        for Nv in Photon_No:\n",
    "            \n",
    "            npzfile = np.load('../../Short Circuit/0A_aa_h2t/h2t_%fns.npz' %(t*0.2)) \n",
    "            sorted(npzfile.files)\n",
    "            h2t = npzfile['h2t_train']\n",
    "    \n",
    "            indx = []\n",
    "            dim = 11\n",
    "            j = 0\n",
    "            # Train in 40k data points\n",
    "            stopframe = Dv\n",
    "            #Chose over first 450000\n",
    "            totframe = int(round(len(h2t)*0.8))\n",
    "            # number of pieces\n",
    "            nohist = 10\n",
    "            #train 10 percent on each ile\n",
    "            ratio = 1/nohist\n",
    "            #print(stopframe,totframe)\n",
    "\n",
    "            #find histogram values\n",
    "            no = list(np.histogram(h2t[0:totframe],bins=nohist)[0])\n",
    "            val = list(np.histogram(h2t[0:totframe],bins=nohist)[1][0:nohist])\n",
    "            val.insert(0,0)\n",
    "\n",
    "            #print(len(h2t), val)\n",
    "            #iterate over the number of histogram divisions\n",
    "            for ile in range(nohist):\n",
    "                #print(ile)\n",
    "                # iterate over all frames\n",
    "                for i in range(totframe):\n",
    "                    #iterate over deciles\n",
    "                    #print(stopframe*ratio*(ile+1))\n",
    "                    if j < stopframe*ratio*(ile+1):\n",
    "                        # select that it is in the correct decile\n",
    "                        if h2t[i] < val[ile+1] and h2t[i] > val[ile]:\n",
    "                            for d in range(-dim//2+1,dim//2+1):\n",
    "                                if (i+d) not in indx:\n",
    "                                    #print(i-d)\n",
    "                                    indx.append(i+d)\n",
    "                                    j += 1\n",
    "                                    #print(i-d)\n",
    "                                    #print(indx[])\n",
    "\n",
    "                    elif j >= stopframe:\n",
    "                        #print(ile,i,j)\n",
    "                        break\n",
    "\n",
    "            #    print(len(indx))\n",
    "                \n",
    "                \n",
    "                \n",
    "            # loading z_aa\n",
    "            npzfile = np.load('../../Short Circuit/1A_dMap_aa/data_%dk_%fns.npz' %(Dv,t*0.2))\n",
    "           # sorted(npzfile.files)\n",
    "            z_aa = npzfile['z']\n",
    "            \n",
    "         #   test = np.array(range(len(z_aa)))\n",
    "          #  for i in range(len(indx)):\n",
    "           #     test.remove(indx[i])\n",
    "            \n",
    "            z_aa_features_idx = np.array([1,2])\n",
    "            z_aa = z_aa[:,z_aa_features_idx]\n",
    "\n",
    "            n_aa = z_aa.shape[0]\n",
    "            d_aa = z_aa.shape[1]\n",
    "\n",
    "            # scaling\n",
    "            zscale_aa = pre.MinMaxScaler(feature_range=(0,1)) # changing feature range requires modification of chain rule in post-hoc gradient rescaling AND use of loss other than BCE\n",
    "\n",
    "            Z_aa = zscale_aa.fit_transform(z_aa)\n",
    "\n",
    "            # saving scaling associated with model\n",
    "            D = {}\n",
    "            D['zscale'] = zscale_aa\n",
    "            file = open('ANN_z_aa_scaling_%dk_%dphoton_%fns.pkl' %(Dv,Nv,t*0.2), 'wb')\n",
    "            pickle.dump(D, file)\n",
    "            file.close()\n",
    "\n",
    "            #D = pickle.load(open(\"ANN_z_aa_scaling.pkl\", \"rb\"))\n",
    "            #zscale = D['zscale']\n",
    "\n",
    "            # loading z_Takens\n",
    "            npzfile = np.load('../3A_dMap_h2t/data_%dk_%dphoton_%fns.npz' %(Dv,Nv,t*0.2))\n",
    "            #sorted(npzfile.files)\n",
    "            z_Takens = npzfile['z']\n",
    "\n",
    "            z_Takens_features_idx = np.array([1,2])\n",
    "\n",
    "            z_Takens = z_Takens[:,z_Takens_features_idx]\n",
    "\n",
    "            n_Takens = z_Takens.shape[0]\n",
    "            d_Takens = z_Takens.shape[1]\n",
    "\n",
    "            zscale_Takens = pre.MinMaxScaler(feature_range=(0,1)) # changing feature range requires modification of chain rule in post-hoc gradient rescaling AND use of loss other than BCE\n",
    "\n",
    "            Z_Takens = zscale_Takens.fit_transform(z_Takens)\n",
    "\n",
    "            # saving scaling associated with model\n",
    "            D = {}\n",
    "            D['zscale'] = zscale_Takens\n",
    "            file = open('ANN_z_Takens_scaling_%dk_%dphoton_%fns.pkl' %(Dv,Nv,t*0.2), 'wb')\n",
    "            pickle.dump(D, file)\n",
    "            file.close()\n",
    "\n",
    "            z_aa = z_aa[:z_Takens.shape[0],:]\n",
    "            Z_aa = Z_aa[:Z_Takens.shape[0],:]\n",
    "\n",
    "            assert z_aa.shape[0] == Z_aa.shape[0]\n",
    "            assert z_aa.shape[0] == z_Takens.shape[0]\n",
    "            assert z_aa.shape[0] == Z_Takens.shape[0]\n",
    "\n",
    "            class ANN(nn.Module):\n",
    "                def __init__(self, q, d_in, d_out):\n",
    "                    super(ANN, self).__init__()\n",
    "                    self.hidden1 = nn.Linear(d_in, np.int(np.ceil(q*d_in)))\n",
    "                    self.hidden2 = nn.Linear(np.int(np.ceil(q*d_in)), np.int(np.ceil(q*d_in)))\n",
    "                    self.hidden3 = nn.Linear(np.int(np.ceil(q*d_in)), np.int(np.ceil(q*d_in)))\n",
    "                    self.hidden4 = nn.Linear(np.int(np.ceil(q*d_in)), np.int(np.ceil(q*d_in)))\n",
    "                    self.output = nn.Linear(np.int(np.ceil(q*d_in)), d_out)\n",
    "\n",
    "                def forward(self, x):\n",
    "                    x = torch.tanh(self.hidden1(x))\n",
    "                    x = torch.tanh(self.hidden2(x))\n",
    "                    x = torch.tanh(self.hidden3(x))\n",
    "                    x = torch.tanh(self.hidden4(x))\n",
    "                    x = torch.tanh(self.output(x))\n",
    "                    return x\n",
    "\n",
    "            activation = {}\n",
    "\n",
    "            class CustomDataset(Dataset):\n",
    "                def __init__(self, x_tensor, y_tensor):\n",
    "                    self.x = x_tensor\n",
    "                    self.y = y_tensor\n",
    "\n",
    "                def __getitem__(self, index):\n",
    "                    return (self.x[index], self.y[index])\n",
    "\n",
    "                def __len__(self):\n",
    "                    return len(self.x)\n",
    "\n",
    "            x_tensor = torch.from_numpy(Z_Takens).float()\n",
    "            y_tensor = torch.from_numpy(Z_aa).float()\n",
    "            assert x_tensor.shape[0] == y_tensor.shape[0]\n",
    "\n",
    "            idx = np.arange(x_tensor.shape[0])\n",
    "\n",
    "            val_frac = 0.10\n",
    "            idx_train, idx_val = train_test_split(idx, test_size=val_frac, random_state=42)\n",
    "\n",
    "            train_dataset = CustomDataset(x_tensor[idx_train], y_tensor[idx_train])\n",
    "            val_dataset = CustomDataset(x_tensor[idx_val], y_tensor[idx_val])\n",
    "\n",
    "            q=5.\n",
    "\n",
    "            model = ANN(q, d_Takens, d_aa).to(device)\n",
    "\n",
    "            #save_path = \"./ANN.pyt\"\n",
    "            #model.load_state_dict(torch.load(save_path, map_location=device))\n",
    "\n",
    "            lr = 1e-4\n",
    "            n_epochs = 100\n",
    "            batch_size = 500\n",
    "\n",
    "            loss_fn = nn.MSELoss(reduction='elementwise_mean')\n",
    "            optimizer = torch.optim.Adam(model.parameters(), lr=lr, weight_decay=0)\n",
    "\n",
    "            train_step = make_train_step(model, loss_fn, optimizer)\n",
    "\n",
    "            n_batch = math.ceil(1. * len(train_dataset) / batch_size)\n",
    "\n",
    "            loss_train = np.zeros(n_epochs)\n",
    "            loss_val = np.zeros(n_epochs)\n",
    "\n",
    "            start=time.time()\n",
    "\n",
    "            for epoch in range(n_epochs):    \n",
    "\n",
    "                dataset = DataLoader(dataset=train_dataset, batch_size=batch_size, shuffle=True, drop_last=True)\n",
    "\n",
    "                model.train()\n",
    "\n",
    "                batch_idx = 0\n",
    "                for train_in, train_out in dataset:\n",
    "                    train_in, train_out = train_in.to(device), train_out.to(device)\n",
    "                    out = model(train_in)\n",
    "                    loss = loss_fn(out, train_out) \n",
    "                    optimizer.zero_grad()\n",
    "                    loss.backward() # scalar variables, when we call .backward() on them, don’t require arguments – only tensors require a matching sized tensor argument to be passed to the .backward() operation\n",
    "                    optimizer.step()\n",
    "                    batch_idx += 1\n",
    "\n",
    "                model.eval()\n",
    "\n",
    "                y_pred = model(train_dataset.x.to(device))\n",
    "                diff = y_pred.cpu().detach().numpy() - train_dataset.y.cpu().detach().numpy()\n",
    "                MSE = np.mean(diff**2)\n",
    "                loss_train[epoch] = MSE\n",
    "\n",
    "                y_pred = model(val_dataset.x.to(device))\n",
    "                diff = y_pred.cpu().detach().numpy() - val_dataset.y.cpu().detach().numpy()\n",
    "                MSE = np.mean(diff**2)\n",
    "                loss_val[epoch] = MSE        \n",
    "\n",
    "                #if np.mod(epoch+1,1) == 0:\n",
    "                 #   print('====> Epoch %d of %d done! Train loss = %.2e, Val loss = %.2e' % (epoch+1,n_epochs,loss_train[epoch],loss_val[epoch]))\n",
    "\n",
    "            end = time.time()\n",
    "            #print(\"Using device = %s\" % device)\n",
    "            #print(\"Elapsed time %.2f (s)\" % (end - start))\n",
    "\n",
    "            save_path = \"./ANN_%dk_%dphoton_%fns.pyt\" %(Dv,Nv,t*0.2)\n",
    "            torch.save(model.state_dict(), save_path)\n",
    "\n",
    "            # INPUTS\n",
    "\n",
    "            # loading z_Takens\n",
    "            npzfile = np.load('../3A_dMap_h2t/data_%dk_%dphoton_%fns.npz' %(Dv,Nv,t*0.2))\n",
    "           # sorted(npzfile.files)\n",
    "            z_Takens = npzfile['z']\n",
    "\n",
    "            # extracting features\n",
    "            z_Takens = z_Takens[:,z_Takens_features_idx]\n",
    "\n",
    "            # loading z_Takens scaling\n",
    "            D = pickle.load(open(\"../4A_ANN_dMapaa2dMaph2t/ANN_z_Takens_scaling_%dk_%dphoton_%fns.pkl\" %(Dv,Nv,t*0.2), \"rb\"))\n",
    "            zscale_Takens = D['zscale']\n",
    "\n",
    "            # scaling data\n",
    "            Z_Takens = zscale_Takens.transform(z_Takens)\n",
    "\n",
    "            # loading z_aa\n",
    "            npzfile = np.load('../../Short Circuit/1A_dMap_aa/data_%dk_%fns.npz' %(Dv,t*0.2))\n",
    "            #sorted(npzfile.files)\n",
    "            z_aa = npzfile['z']\n",
    "\n",
    "            # extracting features\n",
    "            z_aa = z_aa[:,z_aa_features_idx]\n",
    "\n",
    "            # loading z_aa scaling\n",
    "            D = pickle.load(open(\"ANN_z_aa_scaling_%dk_%dphoton_%fns.pkl\" %(Dv,Nv,t*0.2), \"rb\"))\n",
    "            zscale_aa = D['zscale']\n",
    "\n",
    "            # scaling data\n",
    "            Z_aa = zscale_aa.transform(z_aa)\n",
    "\n",
    "            # trimming data\n",
    "            z_aa = z_aa[:Z_Takens.shape[0]]\n",
    "            Z_aa = Z_aa[:Z_Takens.shape[0]]\n",
    "\n",
    "            # initializing storage arrays\n",
    "            Z_aa_pred = np.zeros(shape=(0,Z_aa.shape[1]), dtype=float)\n",
    "\n",
    "            # running all data through model\n",
    "            # N.B. running as batches so as not to max out GPU memory\n",
    "            nSamples = Z_Takens.shape[0]\n",
    "            maxBatchSz = 10000\n",
    "            assert nSamples >= maxBatchSz\n",
    "            nBatch = np.ceil(np.float(nSamples)/np.float(maxBatchSz)).astype(int)\n",
    "            batchEdges = np.floor(np.linspace(0,nSamples,nBatch+1)).astype(int)\n",
    "\n",
    "            #print('Running data through trained network...')\n",
    "            for i in range(nBatch):\n",
    "                data = torch.FloatTensor(Z_Takens[batchEdges[i]:batchEdges[i+1],:])\n",
    "                data = Variable(data, requires_grad=False)\n",
    "                data = data.to(device)\n",
    "                model.eval()\n",
    "                pred = model(data)\n",
    "\n",
    "                Z_aa_pred_i = pred.cpu().detach().numpy()\n",
    "\n",
    "                Z_aa_pred = np.append(Z_aa_pred,Z_aa_pred_i,axis=0)\n",
    "\n",
    "               # print('\\tProcessed batch %d/%d...' % (i+1,nBatch))\n",
    "\n",
    "           # print('DONE!')\n",
    "            #print('')\n",
    "\n",
    "            z_aa_pred = zscale_aa.inverse_transform(Z_aa_pred)\n",
    "\n",
    "            # scaled MSE\n",
    "            diff = Z_aa_pred - Z_aa\n",
    "            MSE = np.mean(diff**2)\n",
    "            #print('MSE_test = %.2e' % MSE)\n",
    "            #print('RMSE_test = %.2e' % np.sqrt(MSE))\n",
    "            #print('')\n",
    "\n",
    "            # unscaled MSE\n",
    "            diff = z_aa_pred - z_aa\n",
    "            MSE = np.mean(diff**2)\n",
    "            #print('MSE_test = %.2e' % MSE)\n",
    "            #print('RMSE_test = %.2e' % np.sqrt(MSE))\n",
    "            #print('')\n",
    "\n",
    "            # saving latent space projections\n",
    "            np.savez('ANN_pred_%dk_%dphoton_%fns.npz' %(Dv,Nv,t*0.2), z_aa=z_aa_pred)\n",
    "            #npzfile = np.load('ANN_pred.npz')\n",
    "            #sorted(npzfile.files)\n",
    "            #z = npzfile['z_aa']\n",
    "\n",
    "            # initializing storage arrays\n",
    "            Z_aa_pred = np.zeros(shape=(0,Z_aa.shape[1]), dtype=float)\n",
    "\n",
    "            # running all data through model\n",
    "            # N.B. running as batches so as not to max out GPU memory\n",
    "            nSamples = Z_Takens.shape[0]\n",
    "            maxBatchSz = 10000\n",
    "            assert nSamples >= maxBatchSz\n",
    "            nBatch = np.ceil(np.float(nSamples)/np.float(maxBatchSz)).astype(int)\n",
    "            batchEdges = np.floor(np.linspace(0,nSamples,nBatch+1)).astype(int)\n",
    "\n",
    "            #print('Running data through trained network...')\n",
    "            for i in range(nBatch):\n",
    "                data = torch.FloatTensor(Z_Takens[batchEdges[i]:batchEdges[i+1],:])\n",
    "                data = Variable(data, requires_grad=False)\n",
    "                data = data.to(device)\n",
    "                model.eval()\n",
    "                pred = model(data)\n",
    "\n",
    "                Z_aa_pred_i = pred.cpu().detach().numpy()\n",
    "\n",
    "                Z_aa_pred = np.append(Z_aa_pred,Z_aa_pred_i,axis=0)\n",
    "\n",
    "             #   print('\\tProcessed batch %d/%d...' % (i+1,nBatch))\n",
    "\n",
    "            #print('DONE!')\n",
    "            #print('')\n",
    "\n",
    "            z_aa_pred = zscale_aa.inverse_transform(Z_aa_pred)\n",
    "\n",
    "            # scaled MSE\n",
    "            diff_ = Z_aa_pred - Z_aa\n",
    "            s_MSE = np.mean(diff**2)\n",
    "            s_RMSE = np.sqrt(s_MSE)\n",
    "            #print('MSE_test = %.2e' % MSE)\n",
    "            #print('RMSE_test = %.2e' % np.sqrt(MSE))\n",
    "            #print('')\n",
    "\n",
    "            # unscaled MSE\n",
    "            diff = z_aa_pred - z_aa\n",
    "            u_MSE = np.mean(diff**2)\n",
    "            u_RMSE = np.sqrt(u_MSE)\n",
    "            #print('MSE_test = %.2e' % MSE)\n",
    "            #print('RMSE_test = %.2e' % np.sqrt(MSE))\n",
    "            #print('')\n",
    "\n",
    "            # saving latent space projections\n",
    "            np.savez('ANN_pred_%dk_%dphoton_%fns.npz' %(Dv,Nv,t*0.2), z_aa=z_aa_pred)\n",
    "            #npzfile = np.load('ANN_pred.npz')\n",
    "            #sorted(npzfile.files)\n",
    "            #z = npzfile['z_aa']\n",
    "            np.savez('MSE_%dk_%dphoton_%fns.npz' %(Dv,Nv,t*0.2), u_MSE=u_MSE, u_RMSE=u_RMSE, s_RMSE=s_RMSE, s_MSE=s_MSE )\n",
    "            iii +=1\n",
    "            print('\\tProcessed model %d/%d' %(iii,len(tau)*len(Dvec)*len(Photon_No)))"
   ]
  },
  {
   "cell_type": "code",
   "execution_count": 3,
   "metadata": {},
   "outputs": [
    {
     "ename": "NameError",
     "evalue": "name 'xmin' is not defined",
     "output_type": "error",
     "traceback": [
      "\u001b[0;31m---------------------------------------------------------------------------\u001b[0m",
      "\u001b[0;31mNameError\u001b[0m                                 Traceback (most recent call last)",
      "\u001b[0;32m<ipython-input-3-8b022f89f845>\u001b[0m in \u001b[0;36m<module>\u001b[0;34m\u001b[0m\n\u001b[1;32m      9\u001b[0m \u001b[0;31m#3) size 46 std\u001b[0m\u001b[0;34m\u001b[0m\u001b[0;34m\u001b[0m\u001b[0;34m\u001b[0m\u001b[0m\n\u001b[1;32m     10\u001b[0m \u001b[0;34m\u001b[0m\u001b[0m\n\u001b[0;32m---> 11\u001b[0;31m \u001b[0mxrng\u001b[0m \u001b[0;34m=\u001b[0m \u001b[0mnp\u001b[0m\u001b[0;34m.\u001b[0m\u001b[0mlinspace\u001b[0m\u001b[0;34m(\u001b[0m\u001b[0mxmin\u001b[0m\u001b[0;34m,\u001b[0m\u001b[0mxmax\u001b[0m\u001b[0;34m,\u001b[0m\u001b[0;36m5\u001b[0m\u001b[0;34m)\u001b[0m\u001b[0;34m\u001b[0m\u001b[0;34m\u001b[0m\u001b[0m\n\u001b[0m\u001b[1;32m     12\u001b[0m \u001b[0myrng\u001b[0m \u001b[0;34m=\u001b[0m \u001b[0mnp\u001b[0m\u001b[0;34m.\u001b[0m\u001b[0mlinspace\u001b[0m\u001b[0;34m(\u001b[0m\u001b[0mymin\u001b[0m\u001b[0;34m,\u001b[0m\u001b[0mymax\u001b[0m\u001b[0;34m,\u001b[0m\u001b[0;36m5\u001b[0m\u001b[0;34m)\u001b[0m\u001b[0;34m\u001b[0m\u001b[0;34m\u001b[0m\u001b[0m\n\u001b[1;32m     13\u001b[0m \u001b[0mxlrng\u001b[0m \u001b[0;34m=\u001b[0m \u001b[0mnp\u001b[0m\u001b[0;34m.\u001b[0m\u001b[0mlinspace\u001b[0m\u001b[0;34m(\u001b[0m\u001b[0mxmin\u001b[0m\u001b[0;34m,\u001b[0m\u001b[0mxmax\u001b[0m\u001b[0;34m,\u001b[0m\u001b[0;36m5\u001b[0m\u001b[0;34m)\u001b[0m\u001b[0;34m\u001b[0m\u001b[0;34m\u001b[0m\u001b[0m\n",
      "\u001b[0;31mNameError\u001b[0m: name 'xmin' is not defined"
     ]
    }
   ],
   "source": [
    "#FORMAT THE LABELING FOR AXES!!!!!!!!!!!!!!!!!!!!!!!!!!!!!!!!\n",
    "\n",
    "\n",
    "\n",
    "#xmax xmin system good: calibrate with extreme values then put in bounds\n",
    "#label:\n",
    "#1) 5 y, 10 x with linspace\n",
    "#2) round to 3 sig fig.\n",
    "#3) size 46 std\n",
    "\n",
    "xrng = np.linspace(xmin,xmax,5)\n",
    "yrng = np.linspace(ymin,ymax,5)\n",
    "xlrng = np.linspace(xmin,xmax,5)\n",
    "ylrng = np.linspace(ymin,ymax,5)\n",
    "\n",
    "xrng = [item * 1e-7 for item in xrng]\n",
    "yrng = [item * 1e-7 for item in yrng]\n",
    "\n",
    "for i in range(len(xrng)):\n",
    "   # xrng[i] = np.float(format(np.float(np.format_float_positional(xrng[i],precision=7,trim='k')), '.7f'))\n",
    "    xrng[i] = np.format_float_scientific(xrng[i],precision=0,trim='-')#format(np.float(),'.7e'))\n",
    "    \n",
    "    #xrng[i] = np.float(\"{:g}\".format(xrng[i]))#,'.e'))\n",
    "    #xrng[i] = \"{:2e}\".format(xrng[i])\n",
    "    #xrng[i] = str(float(xrng[i]))#,'.e')\n",
    "   # xrng[i] = format(xrng[i],'.3e')\n",
    "    \n",
    "\n",
    "for i in range(len(yrng)):\n",
    "    yrng[i] = np.format_float_scientific(yrng[i],precision=0,trim='-')\n",
    "    #yrng[i] =\n",
    "print(xrng,yrng)"
   ]
  },
  {
   "cell_type": "code",
   "execution_count": 3,
   "metadata": {},
   "outputs": [],
   "source": [
    "#LABELING MATRIX\n",
    "xlbl = [[],[],[],[],[]]\n",
    "ylbl = [[],[],[],[],[]]\n",
    "\n",
    "xlbl[0]=['-9.e-05', '-4.e-05',  '2.e-05',  '7.e-05',  '1.e-04']\n",
    "ylbl[0]=['-9.e-05', '-4.e-05',  '2.e-06',  '5.e-05',  '9.e-05']\n",
    "\n",
    "xlbl[1]=['-9.e-05', '-6.e-05', '-4.e-05', '-6.e-06',  '2.e-05']\n",
    "ylbl[1]=['-6.e-05', '-4.e-05', '-6.e-06',  '2.e-05',  '5.e-05']\n",
    "\n",
    "xlbl[2]=['-1.e-04', '-7.e-05', '-4.e-05', '-1.e-05',  '1.e-05']\n",
    "ylbl[2]=['-6.e-05', '-3.e-05', '-6.e-06',  '2.e-05',  '5.e-05']\n",
    "\n",
    "xlbl[3]=['-5.e-05', '-3.e-05', '-2.e-05',  '2.e-06',  '2.e-05']\n",
    "ylbl[3]=['-6.e-05', '-4.e-05', '-1.e-05',  '1.e-05',  '4.e-05']\n",
    "\n",
    "\n",
    "xlbl[4]=['-3.e-05', '-1.e-05',  '7.e-08',  '1.e-05',  '3.e-05']\n",
    "ylbl[4]=['-6.e-05', '-3.e-05', '-9.e-06',  '2.e-05',  '4.e-05']\n",
    "\n"
   ]
  },
  {
   "cell_type": "code",
   "execution_count": 3,
   "metadata": {},
   "outputs": [
    {
     "name": "stdout",
     "output_type": "stream",
     "text": [
      "1670 1839\n",
      "-10.0252547056068\n",
      "[-9.e-05 -4.e-05  7.e-06  6.e-05  1.e-04]\n",
      "[-9.e-05 -4.e-05  4.e-06  5.e-05  1.e-04]\n"
     ]
    },
    {
     "ename": "NameError",
     "evalue": "name 'xlbl' is not defined",
     "output_type": "error",
     "traceback": [
      "\u001b[0;31m---------------------------------------------------------------------------\u001b[0m",
      "\u001b[0;31mNameError\u001b[0m                                 Traceback (most recent call last)",
      "\u001b[0;32m<ipython-input-3-9a13b6210921>\u001b[0m in \u001b[0;36m<module>\u001b[0;34m\u001b[0m\n\u001b[1;32m    172\u001b[0m \u001b[0;34m\u001b[0m\u001b[0m\n\u001b[1;32m    173\u001b[0m         \u001b[0;31m#ax[icount].tick_params(axis='x', labelrotation=60)\u001b[0m\u001b[0;34m\u001b[0m\u001b[0;34m\u001b[0m\u001b[0;34m\u001b[0m\u001b[0m\n\u001b[0;32m--> 174\u001b[0;31m         \u001b[0max\u001b[0m\u001b[0;34m[\u001b[0m\u001b[0micount\u001b[0m\u001b[0;34m]\u001b[0m\u001b[0;34m.\u001b[0m\u001b[0mset_xticklabels\u001b[0m\u001b[0;34m(\u001b[0m\u001b[0mxlbl\u001b[0m\u001b[0;34m[\u001b[0m\u001b[0micount\u001b[0m\u001b[0;34m]\u001b[0m\u001b[0;34m,\u001b[0m\u001b[0mrotation\u001b[0m\u001b[0;34m=\u001b[0m\u001b[0;36m60\u001b[0m\u001b[0;34m)\u001b[0m\u001b[0;34m\u001b[0m\u001b[0;34m\u001b[0m\u001b[0m\n\u001b[0m\u001b[1;32m    175\u001b[0m         \u001b[0max\u001b[0m\u001b[0;34m[\u001b[0m\u001b[0micount\u001b[0m\u001b[0;34m]\u001b[0m\u001b[0;34m.\u001b[0m\u001b[0mset_yticklabels\u001b[0m\u001b[0;34m(\u001b[0m\u001b[0mylbl\u001b[0m\u001b[0;34m[\u001b[0m\u001b[0micount\u001b[0m\u001b[0;34m]\u001b[0m\u001b[0;34m)\u001b[0m\u001b[0;34m\u001b[0m\u001b[0;34m\u001b[0m\u001b[0m\n\u001b[1;32m    176\u001b[0m \u001b[0;34m\u001b[0m\u001b[0m\n",
      "\u001b[0;31mNameError\u001b[0m: name 'xlbl' is not defined"
     ]
    },
    {
     "data": {
      "image/png": "[encoded data removed]",
      "text/plain": [
       "<Figure size 1800x5400 with 5 Axes>"
      ]
     },
     "metadata": {
      "needs_background": "light"
     },
     "output_type": "display_data"
    }
   ],
   "source": [
    "\n",
    "#ONE PLOT STYLE\n",
    "\n",
    "#bin_sizes = [1,5,10,25,50]\n",
    "Dvec = [40000] #,20000,10000,1000 \n",
    "tau = [1,5,10,25,50]\n",
    "\n",
    "#Dvec = [40000,20000,10000,1000] #20000,10000,1000\n",
    "#,20000,10000,1000\n",
    "\n",
    "\n",
    "#no of observed photons\n",
    "\n",
    "\n",
    "#Photon_No  = [0,1000000,100000,10000,1000]\n",
    "Nv  = 100000\n",
    "\n",
    "#bin_sizes = [1]\n",
    "#Dvec = [40000] \n",
    "#xmin=10000\n",
    "#ymin = 10000\n",
    "#xmax = -10000\n",
    "#ymax = -10000\n",
    "icount = 0\n",
    "\n",
    "fig, ax = plt.subplots(len(tau),figsize=(25, 15*len(tau)))\n",
    "\n",
    "\n",
    "mpl.rc('xtick', labelsize=50) \n",
    "mpl.rc('ytick', labelsize=50)\n",
    "\n",
    "for Dv in Dvec:\n",
    "    for binsz in tau:\n",
    "        t = binsz\n",
    "        flag = 0\n",
    "        npzfile = np.load('ANN_pred_%dk_%dphoton_%fns.npz' %(Dv,Nv,t*0.2))\n",
    "        z = npzfile['z_aa']\n",
    "        zp = z#[:,[1,2]]\n",
    "        if binsz==1:\n",
    "            zp[:,0] = -zp[:,0]\n",
    "           # zp[:,1] = -zp[:,1]\n",
    "        \n",
    "        \n",
    "        one_max = max(zp[:,0])\n",
    "        one_min = min(zp[:,0]) \n",
    "        two_max = max(zp[:,1])\n",
    "        two_min = min(zp[:,1])\n",
    "        \n",
    "        \n",
    "        \n",
    "        \n",
    "        # move the range so that all numbers are positive\n",
    "        if one_min < 0: \n",
    "            zp[:,0] += abs(one_min)\n",
    "        elif one_min > 0:\n",
    "            zp[:,0] -= abs(one_min)\n",
    "            \n",
    "        if two_min < 0: \n",
    "            zp[:,1] += abs(two_min)\n",
    "        elif two_min > 0:\n",
    "            zp[:,1] -= abs(two_min)\n",
    "        print(int((one_max-one_min)/1e-7),int((two_max-two_min)/1e-7))\n",
    "            \n",
    "        # make all elements of zp positive numbers that can correspond to cells\n",
    "        zp /=1e-6\n",
    "        # an assumption of initial conditions\n",
    "        k_b = 1.38064852e-23\n",
    "        T = 300\n",
    "        b = k_b*T\n",
    "\n",
    "        d_x = int((one_max-one_min)/1e-6)+10\n",
    "        d_y = int((two_max-two_min)/1e-6)+10\n",
    "\n",
    "        xp = np.linspace(one_min,one_max,10)\n",
    "        yp = np.linspace(two_min,two_max,10)\n",
    "\n",
    "        for i in range(len(xp)):\n",
    "            xp[i] = round(xp[i],4)\n",
    "            yp[i] = round(yp[i],4)\n",
    "\n",
    "        x = range(d_x)\n",
    "        y= range(d_y)\n",
    "        xx = range(0,d_x,int(d_x/10))\n",
    "        yy= range(0,d_y,int(d_y/10))\n",
    "        # Let's make a free energy landscape\n",
    "\n",
    "        #Make a lattice in the region in numpy\n",
    "        lattice = np.zeros([d_x,d_y])\n",
    "        #lattice = np.empty([d_x,d_y])\n",
    "        #psi_2 from -0.0001 to 0.0007\n",
    "        for i in range(len(zp)):\n",
    "            #resolution in dimensions 1, 2 is 1e-9\n",
    "            l = int(np.floor(zp[i,0]))\n",
    "            m = int(np.floor(zp[i,1]))\n",
    "            #try:\n",
    "            lattice[l,m] += 1\n",
    "            #except:\n",
    "             #   flag +=1\n",
    "              #  pass\n",
    "\n",
    "        # normalize probabilities \n",
    "        lattice /= len(z)\n",
    "        # normalize for grid sizing\n",
    "        lattice *= d_x*d_y\n",
    "        #deep copy lattice for processing \n",
    "        F = deepcopy(lattice)\n",
    "        for l in range(d_x):\n",
    "            for m in range(d_y):\n",
    "                if F[l,m] !=0:\n",
    "                #if F[l,m] !=np.NaN:\n",
    "                    F[l,m] = -np.log(F[l,m]) #+ 7.135528098680009\n",
    "\n",
    "        Fp = list(F)\n",
    "        maxi =0\n",
    "        for i in range(len(Fp)):\n",
    "            Fpp = min(Fp[i])\n",
    "            if maxi > Fpp:\n",
    "                maxi = Fpp\n",
    "        print(maxi)\n",
    "        \n",
    "        for l in range(d_x):\n",
    "            for m in range(d_y):\n",
    "                if F[l,m] !=0:\n",
    "                    F[l,m] -= maxi\n",
    "                elif F[l,m] ==0:\n",
    "                    F[l,m] = np.NaN\n",
    "\n",
    "        #Heatmap 1\n",
    "       # fig, ax = plt.subplots(2,figsize=(25, 15*len(bin_sizes)))\n",
    "       # fig, ax = plt.subplots(figsize=(25, 15))\n",
    "        plt.subplots_adjust(top = 1, bottom = 0, right = 1, left = 0, hspace = 0, wspace = 0)\n",
    "       # plt.subplots_adjust(top = 1, bottom = 0, right = 1, left = 0, hspace = 0.3, wspace = 0.5)\n",
    "        ax[icount].imshow(F, cmap='jet', interpolation='nearest', vmin=0, vmax=12.5)\n",
    "        ax[icount].set_xlabel('$\\Psi_1$', fontsize=50)\n",
    "        ax[icount].set_ylabel('$\\Psi_2$', fontsize=50)\n",
    "        #plt.xlim(left = (y[0]- abs(y[0])*0.1),right = (y[-1]+ abs(y[-1])*0.1))\n",
    "        #plt.ylim((x[0]- abs(x[0])*0.1),(x[-1]+ abs(x[-1])*0.1))\n",
    "        \n",
    "        axes = ['(i)','(ii)','(iii)','(iv)','(v)']\n",
    "        ax[icount].set_title(axes[icount],loc='left',fontsize=50,fontweight=\"bold\")\n",
    "\n",
    "       # ax[icount].set_xlim(left = xmin,right = xmax)\n",
    "     #   ax[icount].set_ylim(ymin-10,ymax)\n",
    "        \n",
    "         \n",
    "        yl = ax[icount].get_ylim()\n",
    "        xl = ax[icount].get_xlim()\n",
    "                     \n",
    "        yrng = np.linspace(one_min*1.1,one_max*1.1,5)\n",
    "        xrng =  np.linspace(two_min*1.1,two_max*1.1,5)\n",
    "       \n",
    "        xlrng = np.linspace(float(xl[0]),float(xl[1]),5)\n",
    "        ylrng = np.linspace(float(yl[0]),float(yl[1]),5) #\n",
    "       # xlrng = np.linspace(float(xl[0])-0.1*float(xl[0]),float(xl[1])+0.1*float(xl[1]),5) \n",
    "        #ylrng = np.linspace(float(yl[0])+0.1*float(yl[0]),float(yl[1])-0.1*float(yl[1]),5)\n",
    "        \n",
    "   #     xlrng = np.linspace(0,d_x+10,5)\n",
    "   #     ylrng = np.linspace(0,d_y+10,5)\n",
    "    #\n",
    "        #ax1.set_yticklabels([\"one\", \"two\", \"three\", \"four\"], rotation=45)\n",
    "        \n",
    "        for i in range(len(xrng)):\n",
    "           # xrng[i] = np.float(format(np.float(np.format_float_positional(xrng[i],precision=7,trim='k')), '.7f'))\n",
    "            xrng[i] = np.format_float_scientific(xrng[i],precision=0,trim='-')#format(np.float(),'.7e'))\n",
    "        print(xrng)\n",
    "        for i in range(len(yrng)):\n",
    "            yrng[i] = np.format_float_scientific(yrng[i],precision=0,trim='-')\n",
    "        print(yrng)\n",
    "\n",
    "        \n",
    "        ax[icount].set_xticks(xlrng)\n",
    "        ax[icount].set_yticks(ylrng)\n",
    "     \n",
    "        #ax[icount].tick_params(axis='x', labelrotation=60)\n",
    "        ax[icount].set_xticklabels(xlbl[icount],rotation=60)\n",
    "        ax[icount].set_yticklabels(ylbl[icount])\n",
    "        \n",
    "        \n",
    "        ax[icount].arrow(zp[17230,1], zp[17230,0], 0,-50, head_width = 30-3*icount, width = 8-icount,color='black')\n",
    "        ax[icount].arrow(zp[27211,1], zp[27211,0], 0, 50, head_width = 30-3*icount, width = 8-icount,color='black')\n",
    "        ax[icount].arrow(zp[40100,1], zp[40100,0], 0, -50, head_width = 30-3*icount, width = 8-icount,color='black')\n",
    "        ax[icount].arrow(zp[58718,1], zp[58718,0], 0, -50, head_width = 30-3*icount, width = 8-icount,color='black')\n",
    "        ax[icount].arrow(zp[83065,1], zp[83065,0]+10, -50, 0, head_width = 30-3*icount, width = 8-icount,color='black')\n",
    "        \n",
    "        ax[icount].text(zp[17230,1]-20+2*icount, zp[17230,0]-80+icount*1, 'a',fontsize=50)#, horizontalalignment='left', verticalalignment='center')#, transform=ax1.transAxes)\n",
    "        ax[icount].text(zp[27211,1]-20+2*icount, zp[27211,0]+100*1.3-5*icount, 'b',fontsize=50)\n",
    "        ax[icount].text(zp[40100,1]-20+2*icount, zp[40100,0]-70*1.5+7*icount, 'c',fontsize=50)\n",
    "        ax[icount].text(zp[58718,1]-20+2*icount, zp[58718,0]-80*1.3+5*icount, 'd',fontsize=50)\n",
    "        ax[icount].text(zp[83065,1]-80 +2*icount-50, zp[83065,0]+30, 'e',fontsize=50)\n",
    "        \n",
    "        #ax[icount].arrow(zp[17230,1], zp[17230,0], -50+3*icount,5, head_width = 20, width = 5,color='black')\n",
    "        #ax[icount].arrow(zp[27211,1], zp[27211,0], 0, 80-5*icount, head_width = 20, width = 5,color='black')\n",
    "        #ax[icount].arrow(zp[40100,1], zp[40100,0], 0, 45-5*icount, head_width = 20, width = 5,color='black')\n",
    "        #ax[icount].arrow(zp[58718,1], zp[58718,0], 0, -80+5*icount, head_width = 20, width = 5,color='black')\n",
    "        #ax[icount].arrow(zp[83065,1], zp[83065,0], 70-5*icount, 70-5*icount, head_width = 20, width = 5,color='black')\n",
    "        \n",
    "        #ax[icount].text(zp[17230,1]-80*1.3+7*icount, zp[17230,0]+15-icount*1, 'a',fontsize=50)#, horizontalalignment='left', verticalalignment='center')#, transform=ax1.transAxes)\n",
    "        #ax[icount].text(zp[27211,1] -15, zp[27211,0]+100*1.3-5*icount, 'b',fontsize=50)\n",
    "        #ax[icount].text(zp[40100,1]+ -10 , zp[40100,0]+65*1.5-7*icount, 'c',fontsize=50)\n",
    "        #ax[icount].text(zp[58718,1]+ -20+icount*2 , zp[58718,0]-80*1.3+5*icount, 'd',fontsize=50)\n",
    "        #ax[icount].text(zp[83065,1]+ 80 -5*icount, zp[83065,0]+80*1.3-5*icount+10, 'e',fontsize=50)\n",
    "        \n",
    "        #plt.xticks(xlrng,xrng,fontsize=80)\n",
    "       ## plt.yticks(ylrng,yrng,fontsize=46)\n",
    "        #plt.tick_params(axis='x', labelrotation=60)\n",
    "       \n",
    "        \n",
    "        #plt.tick_params(left = False, right = False,labelleft = False,labelbottom = False, bottom = False)\n",
    "        icount +=1\n",
    "        #cbar = plt.colorbar()\n",
    "        #cbar.ax.tick_params(labelsize=50)\n",
    "        #plt.scatter(zp[58718,1], zp[58718,0], facecolor='magenta',s=300)\n",
    "        #plt.scatter(zp[40100,1], zp[40100,0], facecolor='cyan',s=300)\n",
    "        #plt.scatter(zp[27211,1], zp[27211,0], facecolor='green',s=300)\n",
    "        #plt.scatter(zp[17230,1], zp[17230,0], facecolor='blue',s=300)\n",
    "        #plt.scatter(zp[83065,1], zp[83065,0], facecolor='yellow',s=300)\n",
    "        #print()\n",
    "        \n",
    "        #findglobal min and max\n",
    "        #if one_max>xmax:\n",
    "         #   xmax = one_max\n",
    "        #if one_min<xmin:\n",
    "        #    xmin = one_min\n",
    "        #if two_max>ymax:\n",
    "         #   ymax = two_max\n",
    "        #if two_min<ymin:\n",
    "         #   ymin = two_min\n",
    "        #findglobal min and max\n",
    "    \n",
    "        #plt.gca().invert_yaxis()\n",
    "    fig.tight_layout(rect=[0,0,0.99,0.99])    \n",
    "    plt.show()\n",
    "     \n",
    "    fig.savefig('Chignolin_smFES_var_tau.png', dpi=300)\n",
    "        \n",
    "        #print(flag)\n",
    "        #fig.savefig('Chig_map_gen_%dk_%fns.png' %(Dv,b*0.2), dpi=300)"
   ]
  },
  {
   "cell_type": "code",
   "execution_count": null,
   "metadata": {},
   "outputs": [
    {
     "name": "stdout",
     "output_type": "stream",
     "text": [
      "1062 1094\n",
      "-11.884312777079934\n",
      "2163 2663\n",
      "-12.992239322317726\n",
      "4353 4940\n",
      "-13.376898721832177\n",
      "73910 56210\n"
     ]
    }
   ],
   "source": [
    "\n",
    "#ONE PLOT STYLE\n",
    "\n",
    "#bin_sizes = [1,5,10,25,50]\n",
    "Dvec = [40000,20000,10000,1000] \n",
    "tau = [5]\n",
    "\n",
    "\n",
    "#Dvec = [40000,20000,10000,1000] #20000,10000,1000\n",
    "#,20000,10000,1000\n",
    "\n",
    "\n",
    "#no of observed photons\n",
    "\n",
    "\n",
    "#Photon_No  = [0,1000000,100000,10000,1000]\n",
    "Nv  = 100000\n",
    "\n",
    "#bin_sizes = [1]\n",
    "#Dvec = [40000] \n",
    "#xmin=10000\n",
    "#ymin = 10000\n",
    "#xmax = -10000\n",
    "#ymax = -10000\n",
    "icount = 0\n",
    "\n",
    "#fig, ax = plt.subplots(len(tau),figsize=(25, 15*len(tau)))\n",
    "\n",
    "\n",
    "mpl.rc('xtick', labelsize=50) \n",
    "mpl.rc('ytick', labelsize=50)\n",
    "\n",
    "for Dv in Dvec:\n",
    "    for binsz in tau:\n",
    "        t = binsz\n",
    "        flag = 0\n",
    "        npzfile = np.load('ANN_pred_%dk_%dphoton_%fns.npz' %(Dv,Nv,t*0.2))\n",
    "        z = npzfile['z_aa']\n",
    "        zp = z#[:,[1,2]]\n",
    "        if binsz==1:\n",
    "            zp[:,0] = -zp[:,0]\n",
    "           # zp[:,1] = -zp[:,1]\n",
    "        \n",
    "        \n",
    "        one_max = max(zp[:,0])\n",
    "        one_min = min(zp[:,0]) \n",
    "        two_max = max(zp[:,1])\n",
    "        two_min = min(zp[:,1])\n",
    "        # move the range so that all numbers are positive\n",
    "        if one_min < 0: \n",
    "            zp[:,0] += abs(one_min)\n",
    "        elif one_min > 0:\n",
    "            zp[:,0] -= abs(one_min)\n",
    "            \n",
    "        if two_min < 0: \n",
    "            zp[:,1] += abs(two_min)\n",
    "        elif two_min > 0:\n",
    "            zp[:,1] -= abs(two_min)\n",
    "        print(int((one_max-one_min)/1e-7),int((two_max-two_min)/1e-7))\n",
    "            \n",
    "        # make all elements of zp positive numbers that can correspond to cells\n",
    "        zp /= 1e-7\n",
    "        # an assumption of initial conditions\n",
    "        k_b = 1.38064852e-23\n",
    "        T = 300\n",
    "        bolt = k_b*T\n",
    "\n",
    "        d_x = int((one_max-one_min)/1e-7)+10\n",
    "        d_y = int((two_max-two_min)/1e-7)+10\n",
    "\n",
    "        xp = np.linspace(one_min,one_max,10)\n",
    "        yp = np.linspace(two_min,two_max,10)\n",
    "\n",
    "        for i in range(len(xp)):\n",
    "            xp[i] = round(xp[i],4)\n",
    "            yp[i] = round(yp[i],4)\n",
    "\n",
    "        x = range(d_x)\n",
    "        y= range(d_y)\n",
    "        xx = range(0,d_x,int(d_x/10))\n",
    "        yy= range(0,d_y,int(d_y/10))\n",
    "        # Let's make a free energy landscape\n",
    "\n",
    "        #Make a lattice in the region in numpy\n",
    "        lattice = np.zeros([d_x,d_y])\n",
    "        #lattice = np.empty([d_x,d_y])\n",
    "        #psi_2 from -0.0001 to 0.0007\n",
    "        for i in range(len(zp)):\n",
    "            #resolution in dimensions 1, 2 is 1e-9\n",
    "            l = int(np.floor(zp[i,0]))\n",
    "            m = int(np.floor(zp[i,1]))\n",
    "            #try:\n",
    "            lattice[l,m] += 1\n",
    "            #except:\n",
    "             #   flag +=1\n",
    "              #  pass\n",
    "\n",
    "        # normalize probabilities \n",
    "        lattice /= len(z)\n",
    "        # normalize for grid sizing\n",
    "        lattice *= d_x*d_y\n",
    "        #deep copy lattice for processing \n",
    "        F = deepcopy(lattice)\n",
    "        for l in range(d_x):\n",
    "            for m in range(d_y):\n",
    "                if F[l,m] !=0:\n",
    "                #if F[l,m] !=np.NaN:\n",
    "                    F[l,m] = -np.log(F[l,m]) #+ 7.135528098680009\n",
    "\n",
    "        Fp = list(F)\n",
    "        maxi =0\n",
    "        for i in range(len(Fp)):\n",
    "            Fpp = min(Fp[i])\n",
    "            if maxi > Fpp:\n",
    "                maxi = Fpp\n",
    "        print(maxi)\n",
    "        for l in range(d_x):\n",
    "            for m in range(d_y):\n",
    "                if F[l,m] !=0:\n",
    "                    F[l,m] -= maxi\n",
    "                elif F[l,m] ==0:\n",
    "                    F[l,m] = np.NaN\n",
    "\n",
    "        #Heatmap 1\n",
    "        fig = plt.figure(figsize=(20, 16))\n",
    "        plt.imshow(F, cmap='jet', interpolation='nearest', vmin=0, vmax=14)\n",
    "        \n",
    "        plt.subplots_adjust(top = 1, bottom = 0, right = 1, left = 0, hspace = 0, wspace = 0)\n",
    "        plt.margins(0,0)\n",
    "        #plt.yticks(xx,xp, fontsize=24)\n",
    "        #plt.xticks(yy,yp, fontsize=24)\n",
    "        #plt.xlabel('$\\Psi_2$', fontsize=50)\n",
    "        #plt.ylabel('$\\Psi_3$', fontsize=50)\n",
    "        plt.tick_params(left = False, right = False,labelleft = False,labelbottom = False, bottom = False)\n",
    "        \n",
    "        \n",
    "        cbar = plt.colorbar(ticks=[0,2,4,6,8,10,12,14],orientation='horizontal')\n",
    "        cbar.ax.tick_params(labelsize=80) \n",
    "        \n",
    "     \n",
    "   # fig.savefig('Chignolin_smFES_var_tau.png', dpi=300)\n",
    "        \n",
    "        #print(flag)\n",
    "        #fig.savefig('Chig_map_gen_%dk_%fns.png' %(Dv,b*0.2), dpi=300)"
   ]
  },
  {
   "cell_type": "code",
   "execution_count": null,
   "metadata": {},
   "outputs": [],
   "source": [
    "\n",
    "#LABELING MATRIX\n",
    "xlbl = [[],[],[],[],[]]\n",
    "ylbl = [[],[],[],[],[]]\n",
    "\n",
    "xlbl[0]=['-8.e-05', '-5.e-05', '-3.e-05', '-4.e-06',  '2.e-05']\n",
    "ylbl[0]=['-6.e-05', '-3.e-05', '-6.e-06',  '2.e-05',  '5.e-05']\n",
    "\n",
    "xlbl[1]=['-9.e-05', '-5.e-05', '-1.e-05',  '2.e-05',  '6.e-05']\n",
    "ylbl[1]=['-6.e-05', '-3.e-05', '-7.e-06',  '2.e-05',  '4.e-05']\n",
    "\n",
    "xlbl[2]=['-9.e-05', '-6.e-05', '-3.e-05', '-5.e-06',  '2.e-05']\n",
    "ylbl[2]=['-6.e-05', '-3.e-05', '-6.e-06',  '2.e-05',  '5.e-05']\n",
    "\n",
    "xlbl[3]=['-1.e-04', '-7.e-05', '-3.e-05',  '2.e-05',  '6.e-05']\n",
    "ylbl[3]=['-6.e-05', '-3.e-05', '-6.e-06',  '2.e-05',  '5.e-05']\n",
    "\n"
   ]
  },
  {
   "cell_type": "code",
   "execution_count": null,
   "metadata": {},
   "outputs": [],
   "source": [
    "\n",
    "#ONE PLOT STYLE\n",
    "\n",
    "#bin_sizes = [1,5,10,25,50]\n",
    "#Dvec = [40000,20000,10000,1000] \n",
    "Dvec = [40000]\n",
    "tau = [5]#1,5,10,25,50]\n",
    "\n",
    "#Dvec = [40000,20000,10000,1000] #20000,10000,1000\n",
    "#,20000,10000,1000\n",
    "\n",
    "\n",
    "#no of observed photons\n",
    "\n",
    "\n",
    "Photon_No  = [0,1000000,100000,10000]\n",
    "#Photon_No = [100000]\n",
    "#Nv  = 100000\n",
    "\n",
    "#bin_sizes = [1]\n",
    "#Dvec = [40000] \n",
    "#xmin=10000\n",
    "#ymin = 10000\n",
    "#xmax = -10000\n",
    "#ymax = -10000\n",
    "icount = 0\n",
    "\n",
    "fig, ax = plt.subplots(len(Photon_No),figsize=(25, 15*len(Photon_No)))\n",
    "\n",
    "\n",
    "mpl.rc('xtick', labelsize=60) \n",
    "mpl.rc('ytick', labelsize=60)\n",
    "\n",
    "for Dv in Dvec:\n",
    "#for Nv in Photon_No:\n",
    "    #for binsz in tau:\n",
    "    for Nv in Photon_No:\n",
    "        t = tau[0]# binsz\n",
    "        flag = 0\n",
    "        npzfile = np.load('ANN_pred_%dk_%dphoton_%fns.npz' %(Dv,Nv,t*0.2))\n",
    "        z = npzfile['z_aa']\n",
    "        zp = z#[:,[1,2]]\n",
    "        #if binsz==1:\n",
    "         #   zp[:,0] = -zp[:,0]\n",
    "           # zp[:,1] = -zp[:,1]\n",
    "        \n",
    "        \n",
    "        one_max = max(zp[:,0])\n",
    "        one_min = min(zp[:,0]) \n",
    "        two_max = max(zp[:,1])\n",
    "        two_min = min(zp[:,1])\n",
    "        \n",
    "        \n",
    "        \n",
    "        \n",
    "        # move the range so that all numbers are positive\n",
    "        if one_min < 0: \n",
    "            zp[:,0] += abs(one_min)\n",
    "        elif one_min > 0:\n",
    "            zp[:,0] -= abs(one_min)\n",
    "            \n",
    "        if two_min < 0: \n",
    "            zp[:,1] += abs(two_min)\n",
    "        elif two_min > 0:\n",
    "            zp[:,1] -= abs(two_min)\n",
    "        print(int((one_max-one_min)/1e-7),int((two_max-two_min)/1e-7))\n",
    "            \n",
    "        # make all elements of zp positive numbers that can correspond to cells\n",
    "        zp /=1e-7\n",
    "        # an assumption of initial conditions\n",
    "        k_b = 1.38064852e-23\n",
    "        T = 300\n",
    "        b = k_b*T\n",
    "\n",
    "        d_x = int((one_max-one_min)/1e-7)+20\n",
    "        d_y = int((two_max-two_min)/1e-7)+20\n",
    "\n",
    "        xp = np.linspace(one_min,one_max,10)\n",
    "        yp = np.linspace(two_min,two_max,10)\n",
    "\n",
    "        for i in range(len(xp)):\n",
    "            xp[i] = round(xp[i],4)\n",
    "            yp[i] = round(yp[i],4)\n",
    "\n",
    "        x = range(d_x)\n",
    "        y= range(d_y)\n",
    "        xx = range(0,d_x,int(d_x/10))\n",
    "        yy= range(0,d_y,int(d_y/10))\n",
    "        # Let's make a free energy landscape\n",
    "\n",
    "        #Make a lattice in the region in numpy\n",
    "        lattice = np.zeros([d_x,d_y])\n",
    "        #lattice = np.empty([d_x,d_y])\n",
    "        #psi_2 from -0.0001 to 0.0007\n",
    "        for i in range(len(zp)):\n",
    "            #resolution in dimensions 1, 2 is 1e-9\n",
    "            l = int(np.floor(zp[i,0]))+10\n",
    "            m = int(np.floor(zp[i,1]))+10\n",
    "            #try:\n",
    "            lattice[l,m] += 1\n",
    "            #except:\n",
    "             #   flag +=1\n",
    "              #  pass\n",
    "\n",
    "        # normalize probabilities \n",
    "        lattice /= len(z)\n",
    "        # normalize for grid sizing\n",
    "        lattice *= d_x*d_y\n",
    "        #deep copy lattice for processing \n",
    "        F = deepcopy(lattice)\n",
    "        for l in range(d_x):\n",
    "            for m in range(d_y):\n",
    "                if F[l,m] !=0:\n",
    "                #if F[l,m] !=np.NaN:\n",
    "                    F[l,m] = -np.log(F[l,m]) #+ 7.135528098680009\n",
    "\n",
    "        Fp = list(F)\n",
    "        maxi =0\n",
    "        for i in range(len(Fp)):\n",
    "            Fpp = min(Fp[i])\n",
    "            if maxi > Fpp:\n",
    "                maxi = Fpp\n",
    "        print(maxi)\n",
    "        \n",
    "        for l in range(d_x):\n",
    "            for m in range(d_y):\n",
    "                if F[l,m] !=0:\n",
    "                    F[l,m] -= maxi\n",
    "                elif F[l,m] ==0:\n",
    "                    F[l,m] = np.NaN\n",
    "\n",
    "        #Heatmap 1\n",
    "       # fig, ax = plt.subplots(2,figsize=(25, 15*len(bin_sizes)))\n",
    "       # fig, ax = plt.subplots(figsize=(25, 15))\n",
    "        plt.subplots_adjust(top = 1, bottom = 0, right = 1, left = 0, hspace = 0, wspace = 0)\n",
    "       # plt.subplots_adjust(top = 1, bottom = 0, right = 1, left = 0, hspace = 0.3, wspace = 0.5)\n",
    "        ax[icount].imshow(F, cmap='jet', interpolation='nearest', vmin=0, vmax=12.5)\n",
    "        ax[icount].set_xlabel('$\\Psi_1$', fontsize=60)\n",
    "        ax[icount].set_ylabel('$\\Psi_2$', fontsize=60)\n",
    "        #plt.xlim(left = (y[0]- abs(y[0])*0.1),right = (y[-1]+ abs(y[-1])*0.1))\n",
    "        #plt.ylim((x[0]- abs(x[0])*0.1),(x[-1]+ abs(x[-1])*0.1))\n",
    "        \n",
    "        #axes = ['(i)','(ii)','(iii)','(iv)','(v)']\n",
    "       # ax[icount].set_title(axes[icount],loc='left',fontsize=60,fontweight=\"bold\")\n",
    "\n",
    "       # ax[icount].set_xlim(left = xmin,right = xmax)\n",
    "     #   ax[icount].set_ylim(ymin-10,ymax)\n",
    "        \n",
    "         \n",
    "        yl = ax[icount].get_ylim()\n",
    "        xl = ax[icount].get_xlim()\n",
    "                     \n",
    "        yrng = np.linspace(one_min,one_max,5)\n",
    "        xrng =  np.linspace(two_min,two_max,5)\n",
    "       \n",
    "        xlrng = np.linspace(float(xl[0]),float(xl[1]),5)\n",
    "        ylrng = np.linspace(float(yl[0]),float(yl[1]),5) #\n",
    "        \n",
    "   #     xlrng = np.linspace(0,d_x+10,5)\n",
    "   #     ylrng = np.linspace(0,d_y+10,5)\n",
    "    #\n",
    "        #ax1.set_yticklabels([\"one\", \"two\", \"three\", \"four\"], rotation=45)\n",
    "        \n",
    "        for i in range(len(xrng)):\n",
    "           # xrng[i] = np.float(format(np.float(np.format_float_positional(xrng[i],precision=7,trim='k')), '.7f'))\n",
    "            xrng[i] = np.format_float_scientific(xrng[i],precision=0,trim='-')#format(np.float(),'.7e'))\n",
    "        print(xrng)\n",
    "        for i in range(len(yrng)):\n",
    "            yrng[i] = np.format_float_scientific(yrng[i],precision=0,trim='-')\n",
    "        print(yrng)\n",
    "\n",
    "        \n",
    "        ax[icount].set_xticks(xlrng)\n",
    "        ax[icount].set_yticks(ylrng)\n",
    "     \n",
    "        #ax[icount].tick_params(axis='x', labelrotation=60)\n",
    "        ax[icount].set_xticklabels(xlbl[icount],rotation=60)\n",
    "        ax[icount].set_yticklabels(ylbl[icount])\n",
    "        \n",
    "        ax[icount].arrow(zp[17230,1], zp[17230,0], 0,50, head_width = 30-3*icount, width = 8-icount,color='black')\n",
    "        ax[icount].arrow(zp[27211,1], zp[27211,0], 0, 50, head_width = 30-3*icount, width = 8-icount,color='black')\n",
    "        ax[icount].arrow(zp[40100,1], zp[40100,0], 50, 0, head_width = 30-3*icount, width = 8-icount,color='black')\n",
    "        ax[icount].arrow(zp[58718,1], zp[58718,0], 0, -50, head_width = 30-3*icount, width = 8-icount,color='black')\n",
    "        ax[icount].arrow(zp[83065,1], zp[83065,0]+10, -100, 0, head_width = 30-3*icount, width = 8-icount,color='black')\n",
    "        \n",
    "        ax[icount].text(zp[17230,1]-20+2*icount, zp[17230,0]+140-icount*3, 'a',fontsize=50)#, horizontalalignment='left', verticalalignment='center')#, transform=ax1.transAxes)\n",
    "        ax[icount].text(zp[27211,1]-20+2*icount, zp[27211,0]+120*1.3-5*icount, 'b',fontsize=50)\n",
    "        ax[icount].text(zp[40100,1]+70*1.5-7*icount, zp[40100,0]+30-2*icount, 'c',fontsize=50)\n",
    "        ax[icount].text(zp[58718,1]-30+2*icount, zp[58718,0]-80*1.3+5*icount, 'd',fontsize=50)\n",
    "        ax[icount].text(zp[83065,1]-100 +2*icount-100, zp[83065,0]+30, 'e',fontsize=50)\n",
    "        \n",
    "        #ax[icount].arrow(zp[17230,1], zp[17230,0], -50+3*icount,5, head_width = 20, width = 5,color='black')\n",
    "        #ax[icount].arrow(zp[27211,1], zp[27211,0], 0, 80-5*icount, head_width = 20, width = 5,color='black')\n",
    "        #ax[icount].arrow(zp[40100,1], zp[40100,0], 0, 45-5*icount, head_width = 20, width = 5,color='black')\n",
    "        #ax[icount].arrow(zp[58718,1], zp[58718,0], 0, -80+5*icount, head_width = 20, width = 5,color='black')\n",
    "        #ax[icount].arrow(zp[83065,1], zp[83065,0], 70-5*icount, 70-5*icount, head_width = 20, width = 5,color='black')\n",
    "        \n",
    "        #ax[icount].text(zp[17230,1]-80*1.3+7*icount, zp[17230,0]+15-icount*1, 'a',fontsize=60)#, horizontalalignment='left', verticalalignment='center')#, transform=ax1.transAxes)\n",
    "        #ax[icount].text(zp[27211,1] -15, zp[27211,0]+100*1.3-5*icount, 'b',fontsize=60)\n",
    "        #ax[icount].text(zp[40100,1]+ -10 , zp[40100,0]+65*1.5-7*icount, 'c',fontsize=60)\n",
    "        #ax[icount].text(zp[58718,1]+ -20+icount*2 , zp[58718,0]-80*1.3+5*icount, 'd',fontsize=60)\n",
    "        #ax[icount].text(zp[83065,1]+ 80 -5*icount, zp[83065,0]+80*1.3-5*icount+10, 'e',fontsize=60)\n",
    "        \n",
    "        #plt.xticks(xlrng,xrng,fontsize=80)\n",
    "       ## plt.yticks(ylrng,yrng,fontsize=46)\n",
    "        #plt.tick_params(axis='x', labelrotation=60)\n",
    "       \n",
    "        \n",
    "        #plt.tick_params(left = False, right = False,labelleft = False,labelbottom = False, bottom = False)\n",
    "        icount +=1\n",
    "        #cbar = plt.colorbar()\n",
    "        #cbar.ax.tick_params(labelsize=50)\n",
    "        #plt.scatter(zp[58718,1], zp[58718,0], facecolor='magenta',s=300)\n",
    "        #plt.scatter(zp[40100,1], zp[40100,0], facecolor='cyan',s=300)\n",
    "        #plt.scatter(zp[27211,1], zp[27211,0], facecolor='green',s=300)\n",
    "        #plt.scatter(zp[17230,1], zp[17230,0], facecolor='blue',s=300)\n",
    "        #plt.scatter(zp[83065,1], zp[83065,0], facecolor='yellow',s=300)\n",
    "        #print()\n",
    "        \n",
    "        #findglobal min and max\n",
    "        #if one_max>xmax:\n",
    "         #   xmax = one_max\n",
    "        #if one_min<xmin:\n",
    "        #    xmin = one_min\n",
    "        #if two_max>ymax:\n",
    "         #   ymax = two_max\n",
    "        #if two_min<ymin:\n",
    "         #   ymin = two_min\n",
    "        #findglobal min and max\n",
    "    \n",
    "        #plt.gca().invert_yaxis()\n",
    "    fig.tight_layout(rect=[0,0,0.9,0.9])    \n",
    "    plt.show()\n",
    "     \n",
    "    fig.savefig('Chignolin_smFES_var_Nv.png', dpi=300)\n",
    "        \n",
    "        #print(flag)\n",
    "        #fig.savefig('Chig_map_gen_%dk_%fns.png' %(Dv,b*0.2), dpi=300)"
   ]
  },
  {
   "cell_type": "code",
   "execution_count": null,
   "metadata": {},
   "outputs": [],
   "source": [
    "#LABELING MATRIX\n",
    "xlbl = [[],[],[],[],[]]\n",
    "ylbl = [[],[],[],[],[]]\n",
    "\n",
    "xlbl[0]=['-9.e-05', '-6.e-05', '-3.e-05', '-5.e-06',  '2.e-05']\n",
    "ylbl[0]=['-6.e-05', '-3.e-05', '-6.e-06',  '2.e-05',  '5.e-05']\n",
    "\n",
    "xlbl[1]=['-2.e-04', '-1.e-04', '-5.e-05',  '8.e-06',  '7.e-05']\n",
    "ylbl[1]=['-1.e-04', '-7.e-05', '-2.e-05',  '4.e-05',  '9.e-05']\n",
    "\n",
    "xlbl[2]=['-4.e-04', '-2.e-04', '-1.e-04',  '2.e-06',  '1.e-04']\n",
    "ylbl[2]=['-3.e-04', '-2.e-04', '-4.e-05',  '7.e-05',  '2.e-04']\n",
    "\n",
    "\n",
    "\n",
    "\n",
    "xlbl[3]=['-3.e-03', '-2.e-03', '-6.e-04',  '8.e-04',  '2.e-03']\n",
    "ylbl[3]=['-6.e-03', '-5.e-03', '-3.e-03',  '-9.e-04',  '9.e-04']\n"
   ]
  },
  {
   "cell_type": "code",
   "execution_count": null,
   "metadata": {},
   "outputs": [],
   "source": [
    "\n",
    "#ONE PLOT STYLE\n",
    "\n",
    "#bin_sizes = [1,5,10,25,50]\n",
    "Dvec = [40000,20000,10000,1000] \n",
    "#Dvec = [40000]\n",
    "tau = [5]#1,5,10,25,50]\n",
    "\n",
    "#Dvec = [40000,20000,10000,1000] #20000,10000,1000\n",
    "#,20000,10000,1000\n",
    "\n",
    "\n",
    "#no of observed photons\n",
    "\n",
    "\n",
    "#Photon_No  = [0,1000000,100000,10000,1000]\n",
    "#Photon_No = [100000]\n",
    "Nv  = 100000\n",
    "\n",
    "#bin_sizes = [1]\n",
    "#Dvec = [40000] \n",
    "#xmin=10000\n",
    "#ymin = 10000\n",
    "#xmax = -10000\n",
    "#ymax = -10000\n",
    "icount = 0\n",
    "\n",
    "fig, ax = plt.subplots(len(Dvec),figsize=(25, 15*len(Dvec)))\n",
    "\n",
    "\n",
    "mpl.rc('xtick', labelsize=60) \n",
    "mpl.rc('ytick', labelsize=60)\n",
    "\n",
    "for Dv in Dvec:\n",
    "#for Nv in Photon_No:\n",
    "    #for binsz in tau:\n",
    "    #for Nv in Photon_No:\n",
    "        t = tau[0]# binsz\n",
    "        flag = 0\n",
    "        npzfile = np.load('ANN_pred_%dk_%dphoton_%fns.npz' %(Dv,Nv,t*0.2))\n",
    "        z = npzfile['z_aa']\n",
    "        zp = z#[:,[1,2]]\n",
    "        #if binsz==1:\n",
    "         #   zp[:,0] = -zp[:,0]\n",
    "           # zp[:,1] = -zp[:,1]\n",
    "        \n",
    "        \n",
    "        one_max = max(zp[:,0])\n",
    "        one_min = min(zp[:,0]) \n",
    "        two_max = max(zp[:,1])\n",
    "        two_min = min(zp[:,1])\n",
    "        \n",
    "        gague = 1e-7\n",
    "        if Dv == 1000:\n",
    "            gague = 1e-6\n",
    "        # move the range so that all numbers are positive\n",
    "        if one_min < 0: \n",
    "            zp[:,0] += abs(one_min)\n",
    "        elif one_min > 0:\n",
    "            zp[:,0] -= abs(one_min)\n",
    "            \n",
    "        if two_min < 0: \n",
    "            zp[:,1] += abs(two_min)\n",
    "        elif two_min > 0:\n",
    "            zp[:,1] -= abs(two_min)\n",
    "            \n",
    "        if Dv ==Dvec[0]:    \n",
    "            metric_org = int((one_max-one_min)/gague)#*int((two_max-two_min)/gague)\n",
    "            \n",
    "        metric = int((one_max-one_min)/gague)#*int((two_max-two_min)/gague)  \n",
    "        scale = metric/metric_org    \n",
    "        \n",
    "        print(int((one_max-one_min)/gague),int((two_max-two_min)/gague))\n",
    "            \n",
    "        # make all elements of zp positive numbers that can correspond to cells\n",
    "        zp /=gague\n",
    "        # an assumption of initial conditions\n",
    "        k_b = 1.38064852e-23\n",
    "        T = 300\n",
    "        b = k_b*T\n",
    "\n",
    "        d_x = int((one_max-one_min)/gague)+10\n",
    "        d_y = int((two_max-two_min)/gague)+10\n",
    "\n",
    "        xp = np.linspace(one_min,one_max,10)\n",
    "        yp = np.linspace(two_min,two_max,10)\n",
    "\n",
    "        for i in range(len(xp)):\n",
    "            xp[i] = round(xp[i],4)\n",
    "            yp[i] = round(yp[i],4)\n",
    "\n",
    "        x = range(d_x)\n",
    "        y= range(d_y)\n",
    "        xx = range(0,d_x,int(d_x/10))\n",
    "        yy= range(0,d_y,int(d_y/10))\n",
    "        # Let's make a free energy landscape\n",
    "\n",
    "        #Make a lattice in the region in numpy\n",
    "        lattice = np.zeros([d_x,d_y])\n",
    "        #lattice = np.empty([d_x,d_y])\n",
    "        #psi_2 from -0.0001 to 0.0007\n",
    "        for i in range(len(zp)):\n",
    "            #resolution in dimensions 1, 2 is 1e-9\n",
    "            l = int(np.floor(zp[i,0]))\n",
    "            m = int(np.floor(zp[i,1]))\n",
    "            #try:\n",
    "            lattice[l,m] += 1\n",
    "            #except:\n",
    "             #   flag +=1\n",
    "              #  pass\n",
    "\n",
    "        # normalize probabilities \n",
    "        lattice /= len(z)\n",
    "        # normalize for grid sizing\n",
    "        lattice *= d_x*d_y\n",
    "        #deep copy lattice for processing \n",
    "        F = deepcopy(lattice)\n",
    "        for l in range(d_x):\n",
    "            for m in range(d_y):\n",
    "                if F[l,m] !=0:\n",
    "                #if F[l,m] !=np.NaN:\n",
    "                    F[l,m] = -np.log(F[l,m]) #+ 7.135528098680009\n",
    "\n",
    "        Fp = list(F)\n",
    "        maxi =0\n",
    "        for i in range(len(Fp)):\n",
    "            Fpp = min(Fp[i])\n",
    "            if maxi > Fpp:\n",
    "                maxi = Fpp\n",
    "        print(maxi)\n",
    "        \n",
    "        for l in range(d_x):\n",
    "            for m in range(d_y):\n",
    "                if F[l,m] !=0:\n",
    "                    F[l,m] -= maxi\n",
    "                elif F[l,m] ==0:\n",
    "                    F[l,m] = np.NaN\n",
    "\n",
    "        #Heatmap 1\n",
    "       # fig, ax = plt.subplots(2,figsize=(25, 15*len(bin_sizes)))\n",
    "       # fig, ax = plt.subplots(figsize=(25, 15))\n",
    "        plt.subplots_adjust(top = 1, bottom = 0, right = 1, left = 0, hspace = 0, wspace = 0)\n",
    "       # plt.subplots_adjust(top = 1, bottom = 0, right = 1, left = 0, hspace = 0.3, wspace = 0.5)\n",
    "        ax[icount].imshow(F, cmap='jet', interpolation='nearest', vmin=0, vmax=14)\n",
    "        ax[icount].set_xlabel('$\\Psi_1$', fontsize=60)\n",
    "        ax[icount].set_ylabel('$\\Psi_2$', fontsize=60)\n",
    "        #plt.xlim(left = (y[0]- abs(y[0])*0.1),right = (y[-1]+ abs(y[-1])*0.1))\n",
    "        #plt.ylim((x[0]- abs(x[0])*0.1),(x[-1]+ abs(x[-1])*0.1))\n",
    "        \n",
    "        axes = ['(i)','(ii)','(iii)','(iv)','(v)']\n",
    "        ax[icount].set_title(axes[icount],loc='left',fontsize=60,fontweight=\"bold\")\n",
    "\n",
    "       # ax[icount].set_xlim(left = xmin,right = xmax)\n",
    "     #   ax[icount].set_ylim(ymin-10,ymax)\n",
    "        \n",
    "         \n",
    "        yl = ax[icount].get_ylim()\n",
    "        xl = ax[icount].get_xlim()\n",
    "                     \n",
    "        yrng = np.linspace(one_min,one_max,5)\n",
    "        xrng =  np.linspace(two_min,two_max,5)\n",
    "       \n",
    "        xlrng = np.linspace(float(xl[0]),float(xl[1]),5)\n",
    "        ylrng = np.linspace(float(yl[0]),float(yl[1]),5) #\n",
    "        \n",
    "   #     xlrng = np.linspace(0,d_x+10,5)\n",
    "   #     ylrng = np.linspace(0,d_y+10,5)\n",
    "    #\n",
    "        #ax1.set_yticklabels([\"one\", \"two\", \"three\", \"four\"], rotation=45)\n",
    "        \n",
    "        for i in range(len(xrng)):\n",
    "           # xrng[i] = np.float(format(np.float(np.format_float_positional(xrng[i],precision=7,trim='k')), '.7f'))\n",
    "            xrng[i] = np.format_float_scientific(xrng[i],precision=0,trim='-')#format(np.float(),'.7e'))\n",
    "        print(xrng)\n",
    "        for i in range(len(yrng)):\n",
    "            yrng[i] = np.format_float_scientific(yrng[i],precision=0,trim='-')\n",
    "        print(yrng)\n",
    "\n",
    "        \n",
    "        ax[icount].set_xticks(xlrng)\n",
    "        ax[icount].set_yticks(ylrng)\n",
    "     \n",
    "        #ax[icount].tick_params(axis='x', labelrotation=60)\n",
    "        ax[icount].set_xticklabels(xlbl[icount],rotation=60)\n",
    "        ax[icount].set_yticklabels(ylbl[icount])\n",
    "        \n",
    "        \n",
    "        if Dv==1000:\n",
    "            ax[icount].arrow(zp[17230,1], zp[17230,0], 0,50*scale, head_width = (20)*scale, width = (4)*scale,color='black')\n",
    "            ax[icount].arrow(zp[27211,1], zp[27211,0], 0, 50*scale, head_width = (20)*scale, width = (4)*scale,color='black')\n",
    "            ax[icount].arrow(zp[40100,1], zp[40100,0], 50*scale, 0, head_width = (20)*scale, width = (4)*scale,color='black')\n",
    "            ax[icount].arrow(zp[58718,1], zp[58718,0], 0, -50*scale, head_width = (20)*scale, width = (4)*scale,color='black')\n",
    "            ax[icount].arrow(zp[83065,1], zp[83065,0], -100*scale, 0, head_width = (20)*scale, width = (4)*scale,color='black')\n",
    "\n",
    "            ax[icount].text(zp[17230,1]-20*scale, zp[17230,0]+140*scale, 'a',fontsize=50)#, horizontalalignment='left', verticalalignment='center')#, transform=ax1.transAxes)\n",
    "            ax[icount].text(zp[27211,1]-20*scale, zp[27211,0]+120*scale, 'b',fontsize=50)\n",
    "            ax[icount].text(zp[40100,1]+70*1.5*scale, zp[40100,0]+30*scale, 'c',fontsize=50)\n",
    "            ax[icount].text(zp[58718,1]-30*scale, zp[58718,0]-80*1.3*scale, 'd',fontsize=50)\n",
    "            ax[icount].text(zp[83065,1]-200*scale, zp[83065,0]+30*scale, 'e',fontsize=50)\n",
    "        \n",
    "        else:\n",
    "            ax[icount].arrow(zp[17230,1], zp[17230,0], 0,50*scale, head_width = (20)*scale, width = (4)*scale,color='black')\n",
    "            ax[icount].arrow(zp[27211,1], zp[27211,0], 0, 50*scale, head_width = (20)*scale, width = (4)*scale,color='black')\n",
    "            ax[icount].arrow(zp[40100,1], zp[40100,0], 50*scale, 0, head_width = (20)*scale, width = (4)*scale,color='black')\n",
    "            ax[icount].arrow(zp[58718,1], zp[58718,0], 0, -50*scale, head_width = (20)*scale, width = (4)*scale,color='black')\n",
    "            ax[icount].arrow(zp[83065,1], zp[83065,0], -100*scale, 0, head_width = (20)*scale, width = (4)*scale,color='black')\n",
    "\n",
    "            ax[icount].text(zp[17230,1]-20*scale, zp[17230,0]+140*scale, 'a',fontsize=50)#, horizontalalignment='left', verticalalignment='center')#, transform=ax1.transAxes)\n",
    "            ax[icount].text(zp[27211,1]-20*scale, zp[27211,0]+120*scale, 'b',fontsize=50)\n",
    "            ax[icount].text(zp[40100,1]+70*1.5*scale, zp[40100,0]+30*scale, 'c',fontsize=50)\n",
    "            ax[icount].text(zp[58718,1]-30*scale, zp[58718,0]-80*1.3*scale, 'd',fontsize=50)\n",
    "            ax[icount].text(zp[83065,1]-200*scale, zp[83065,0]+30*scale, 'e',fontsize=50)\n",
    "        \n",
    "        \n",
    "        #ax[icount].arrow(zp[17230,1], zp[17230,0], -50+3*icount,5, head_width = 20, width = 5,color='black')\n",
    "        #ax[icount].arrow(zp[27211,1], zp[27211,0], 0, 80-5*icount, head_width = 20, width = 5,color='black')\n",
    "        #ax[icount].arrow(zp[40100,1], zp[40100,0], 0, 45-5*icount, head_width = 20, width = 5,color='black')\n",
    "        #ax[icount].arrow(zp[58718,1], zp[58718,0], 0, -80+5*icount, head_width = 20, width = 5,color='black')\n",
    "        #ax[icount].arrow(zp[83065,1], zp[83065,0], 70-5*icount, 70-5*icount, head_width = 20, width = 5,color='black')\n",
    "       # \n",
    "        #ax[icount].text(zp[17230,1]-80*1.3+7*icount, zp[17230,0]+15-icount*1, 'a',fontsize=60)#, horizontalalignment='left', verticalalignment='center')#, transform=ax1.transAxes)\n",
    "        #ax[icount].text(zp[27211,1] -15, zp[27211,0]+100*1.3-5*icount, 'b',fontsize=60)\n",
    "        #ax[icount].text(zp[40100,1]+ -10 , zp[40100,0]+65*1.5-7*icount, 'c',fontsize=60)\n",
    "        #ax[icount].text(zp[58718,1]+ -20+icount*2 , zp[58718,0]-80*1.3+5*icount, 'd',fontsize=60)\n",
    "        #ax[icount].text(zp[83065,1]+ 80 -5*icount, zp[83065,0]+80*1.3-5*icount+10, 'e',fontsize=60)\n",
    "        \n",
    "        #plt.xticks(xlrng,xrng,fontsize=80)\n",
    "       ## plt.yticks(ylrng,yrng,fontsize=46)\n",
    "        #plt.tick_params(axis='x', labelrotation=60)\n",
    "       \n",
    "        \n",
    "        #plt.tick_params(left = False, right = False,labelleft = False,labelbottom = False, bottom = False)\n",
    "        icount +=1\n",
    "        #cbar = plt.colorbar()\n",
    "        #cbar.ax.tick_params(labelsize=50)\n",
    "        #plt.scatter(zp[58718,1], zp[58718,0], facecolor='magenta',s=300)\n",
    "        #plt.scatter(zp[40100,1], zp[40100,0], facecolor='cyan',s=300)\n",
    "        #plt.scatter(zp[27211,1], zp[27211,0], facecolor='green',s=300)\n",
    "        #plt.scatter(zp[17230,1], zp[17230,0], facecolor='blue',s=300)\n",
    "        #plt.scatter(zp[83065,1], zp[83065,0], facecolor='yellow',s=300)\n",
    "        #print()\n",
    "        \n",
    "        #findglobal min and max\n",
    "        #if one_max>xmax:\n",
    "         #   xmax = one_max\n",
    "        #if one_min<xmin:\n",
    "        #    xmin = one_min\n",
    "        #if two_max>ymax:\n",
    "         #   ymax = two_max\n",
    "        #if two_min<ymin:\n",
    "         #   ymin = two_min\n",
    "        #findglobal min and max\n",
    "    \n",
    "        #plt.gca().invert_yaxis()\n",
    "fig.tight_layout(rect=[0,0,0.99,0.99])    \n",
    "plt.show()\n",
    "\n",
    "fig.savefig('Chignolin_smFES_var_Dv.png', dpi=300)\n",
    "        \n",
    "        #print(flag)\n",
    "        #fig.savefig('Chig_map_gen_%dk_%fns.png' %(Dv,b*0.2), dpi=300)"
   ]
  },
  {
   "cell_type": "markdown",
   "metadata": {},
   "source": [
    "\n",
    "#ONE PLOT STYLE\n",
    "\n",
    "#bin_sizes = [1,5,10,25,50]\n",
    "Dvec = [40000] #,20000,10000,1000 \n",
    "tau = [1,5,10,25,50]\n",
    "\n",
    "#Dvec = [40000,20000,10000,1000] #20000,10000,1000\n",
    "#,20000,10000,1000\n",
    "\n",
    "\n",
    "#no of observed photons\n",
    "\n",
    "\n",
    "#Photon_No  = [0,1000000,100000,10000,1000]\n",
    "Nv  = 100000\n",
    "\n",
    "#bin_sizes = [1]\n",
    "#Dvec = [40000] \n",
    "#xmin=10000\n",
    "#ymin = 10000\n",
    "#xmax = -10000\n",
    "#ymax = -10000\n",
    "icount = 0\n",
    "\n",
    "fig, ax = plt.subplots(len(tau),figsize=(25, 15*len(tau)))\n",
    "\n",
    "\n",
    "mpl.rc('xtick', labelsize=80) \n",
    "mpl.rc('ytick', labelsize=80)\n",
    "\n",
    "for Dv in Dvec:\n",
    "    for binsz in tau:\n",
    "        t = binsz\n",
    "        flag = 0\n",
    "        npzfile = np.load('ANN_pred_%dk_%dphoton_%fns.npz' %(Dv,Nv,t*0.2))\n",
    "        z = npzfile['z_aa']\n",
    "        zp = z#[:,[1,2]]\n",
    "        \n",
    "        if binsz==1:\n",
    "            zp[:,0] = -zp[:,0]\n",
    "           # zp[:,1] = -zp[:,1]\n",
    "        \n",
    "        \n",
    "        one_max = max(zp[:,0])\n",
    "        one_min = min(zp[:,0]) \n",
    "        two_max = max(zp[:,1])\n",
    "        two_min = min(zp[:,1])\n",
    "        \n",
    "        \n",
    "        \n",
    "        \n",
    "        # move the range so that all numbers are positive\n",
    "        if one_min < 0: \n",
    "            zp[:,0] += abs(one_min)\n",
    "        elif one_min > 0:\n",
    "            zp[:,0] -= abs(one_min)\n",
    "            \n",
    "        if two_min < 0: \n",
    "            zp[:,1] += abs(two_min)\n",
    "        elif two_min > 0:\n",
    "            zp[:,1] -= abs(two_min)\n",
    "        print(int((one_max-one_min)/5e-7),int((two_max-two_min)/5e-7))\n",
    "            \n",
    "        # make all elements of zp positive numbers that can correspond to cells\n",
    "        zp /= 5e-7\n",
    "        # an assumption of initial conditions\n",
    "        k_b = 1.38064852e-23\n",
    "        T = 300\n",
    "        b = k_b*T\n",
    "\n",
    "        d_x = int((one_max-one_min)/5e-7)+10\n",
    "        d_y = int((two_max-two_min)/5e-7)+10\n",
    "\n",
    "        xp = np.linspace(one_min,one_max,10)\n",
    "        yp = np.linspace(two_min,two_max,10)\n",
    "\n",
    "        for i in range(len(xp)):\n",
    "            xp[i] = round(xp[i],4)\n",
    "            yp[i] = round(yp[i],4)\n",
    "\n",
    "        x = range(d_x)\n",
    "        y= range(d_y)\n",
    "        xx = range(0,d_x,int(d_x/10))\n",
    "        yy= range(0,d_y,int(d_y/10))\n",
    "        # Let's make a free energy landscape\n",
    "\n",
    "        #Make a lattice in the region in numpy\n",
    "        lattice = np.zeros([d_x,d_y])\n",
    "        #lattice = np.empty([d_x,d_y])\n",
    "        #psi_2 from -0.0001 to 0.0007\n",
    "        for i in range(len(zp)):\n",
    "            #resolution in dimensions 1, 2 is 1e-9\n",
    "            l = int(np.floor(zp[i,0]))\n",
    "            m = int(np.floor(zp[i,1]))\n",
    "            #try:\n",
    "            lattice[l,m] += 1\n",
    "            #except:\n",
    "             #   flag +=1\n",
    "              #  pass\n",
    "\n",
    "        # normalize probabilities \n",
    "        lattice /= len(z)\n",
    "        # normalize for grid sizing\n",
    "        lattice *= d_x*d_y\n",
    "        #deep copy lattice for processing \n",
    "        F = deepcopy(lattice)\n",
    "        for l in range(d_x):\n",
    "            for m in range(d_y):\n",
    "                if F[l,m] !=0:\n",
    "                #if F[l,m] !=np.NaN:\n",
    "                    F[l,m] = -np.log(F[l,m]) #+ 7.135528098680009\n",
    "\n",
    "        Fp = list(F)\n",
    "        maxi =0\n",
    "        for i in range(len(Fp)):\n",
    "            Fpp = min(Fp[i])\n",
    "            if maxi > Fpp:\n",
    "                maxi = Fpp\n",
    "        print(maxi)\n",
    "        \n",
    "        for l in range(d_x):\n",
    "            for m in range(d_y):\n",
    "                if F[l,m] !=0:\n",
    "                    F[l,m] -= maxi\n",
    "                elif F[l,m] ==0:\n",
    "                    F[l,m] = np.NaN\n",
    "\n",
    "        #Heatmap 1\n",
    "       # fig, ax = plt.subplots(2,figsize=(25, 15*len(bin_sizes)))\n",
    "       # fig, ax = plt.subplots(figsize=(25, 15))\n",
    "        plt.subplots_adjust(top = 1, bottom = 0, right = 1, left = 0, hspace = 0, wspace = 0)\n",
    "       # plt.subplots_adjust(top = 1, bottom = 0, right = 1, left = 0, hspace = 0.3, wspace = 0.5)\n",
    "        ax[icount].imshow(F, cmap='jet', interpolation='nearest', vmin=0, vmax=10.5)\n",
    "        ax[icount].set_xlabel('$\\Psi_1$', fontsize=80)\n",
    "        ax[icount].set_ylabel('$\\Psi_2$', fontsize=80)\n",
    "        #plt.xlim(left = (y[0]- abs(y[0])*0.1),right = (y[-1]+ abs(y[-1])*0.1))\n",
    "        #plt.ylim((x[0]- abs(x[0])*0.1),(x[-1]+ abs(x[-1])*0.1))\n",
    "        \n",
    "        axes = ['(i)','(ii)','(iii)','(iv)','(v)']\n",
    "        ax[icount].set_title(axes[icount],loc='left',fontsize=66,fontweight=\"bold\")\n",
    "\n",
    "       # ax[icount].set_xlim(left = xmin,right = xmax)\n",
    "     #   ax[icount].set_ylim(ymin-10,ymax)\n",
    "        \n",
    "         \n",
    "        yl = ax[icount].get_ylim()\n",
    "        xl = ax[icount].get_xlim()\n",
    "                     \n",
    "        yrng = np.linspace(one_min,one_max,5)\n",
    "        xrng =  np.linspace(two_min,two_max,5)\n",
    "       \n",
    "        xlrng = np.linspace(float(xl[0]),float(xl[1]),5)\n",
    "        ylrng = np.linspace(float(yl[0]),float(yl[1]),5) #\n",
    "        \n",
    "   #     xlrng = np.linspace(0,d_x+10,5)\n",
    "   #     ylrng = np.linspace(0,d_y+10,5)\n",
    "    #\n",
    "        #ax1.set_yticklabels([\"one\", \"two\", \"three\", \"four\"], rotation=45)\n",
    "        \n",
    "        for i in range(len(xrng)):\n",
    "           # xrng[i] = np.float(format(np.float(np.format_float_positional(xrng[i],precision=7,trim='k')), '.7f'))\n",
    "            xrng[i] = np.format_float_scientific(xrng[i],precision=0,trim='-')#format(np.float(),'.7e'))\n",
    "\n",
    "        for i in range(len(yrng)):\n",
    "            yrng[i] = np.format_float_scientific(yrng[i],precision=0,trim='-')\n",
    "\n",
    "\n",
    "        \n",
    "        ax[icount].set_xticks(xlrng)\n",
    "        ax[icount].set_yticks(ylrng)\n",
    "     \n",
    "        #ax[icount].tick_params(axis='x', labelrotation=60)\n",
    "        ax[icount].set_xticklabels(xlbl[icount],rotation=60)\n",
    "        ax[icount].set_yticklabels(ylbl[icount])\n",
    "        \n",
    "        \n",
    "        \n",
    "        ax[icount].arrow(zp[27211,1], zp[27211,0], 0, 80-5*icount, head_width = 15*scalemat[icount], width = 3*scalemat[icount],color='black')\n",
    "        \n",
    "        \n",
    "       \n",
    "        ax[icount].arrow(zp[83065,1], zp[83065,0], 70-5*icount, 70-5*icount, head_width = 15*scalemat[icount], width = 3*scalemat[icount],color='black')\n",
    "        \n",
    "        #a\n",
    "        \n",
    "        if icount==0 or icount==2:\n",
    "            ax[icount].text(zp[17230,1]+65*1.3-6*icount, zp[17230,0]-20-icount*1, 'a',fontsize=80)#, horizontalalignment='left', verticalalignment='center')#, transform=ax1.transAxes)\n",
    "            ax[icount].arrow(zp[17230,1], zp[17230,0], 50+3*icount,-25, head_width = 15*scalemat[icount], width = 3*scalemat[icount],color='black')\n",
    "      \n",
    "        else:\n",
    "            ax[icount].text(zp[17230,1]-80*1.3+7*icount, zp[17230,0]+15-icount*1, 'a',fontsize=80)#, horizontalalignment='left', verticalalignment='center')#, transform=ax1.transAxes)\n",
    "            ax[icount].arrow(zp[17230,1], zp[17230,0], -50+3*icount,5, head_width = 15*scalemat[icount], width = 3*scalemat[icount],color='black')\n",
    "        #b\n",
    "        ax[icount].text(zp[27211,1] -10, zp[27211,0]+110*1.3-10*icount, 'b',fontsize=80)\n",
    "        \n",
    "        #c\n",
    "        if icount==4 or icount==3:\n",
    "            ax[icount].text(zp[40100,1]+ -10 , zp[40100,0]+65*1.5-9*icount, 'e',fontsize=80)\n",
    "            ax[icount].arrow(zp[40100,1], zp[40100,0], 0, 45-5*icount, head_width = 15*scalemat[icount], width = 3*scalemat[icount],color='black')  \n",
    "        else:\n",
    "            ax[icount].text(zp[40100,1]+ -10 , zp[40100,0]-55+6*icount, 'e',fontsize=80)\n",
    "            ax[icount].arrow(zp[40100,1], zp[40100,0], 0, -30+4*icount, head_width = 15*scalemat[icount], width = 3*scalemat[icount],color='black')\n",
    "        \n",
    "        \n",
    "        #d\n",
    "        if icount==3:\n",
    "            ax[icount].text(zp[58718,1]+10 -20+icount*2 , zp[58718,0]-90*1.3+8*icount, 'd',fontsize=80)\n",
    "            ax[icount].arrow(zp[58718,1]+10, zp[58718,0], 0, -80+5*icount, head_width = 15*scalemat[icount], width = 3*scalemat[icount],color='black')\n",
    "        elif icount==2:\n",
    "            ax[icount].text(zp[58718,1]-5+ -20+icount*2 , zp[58718,0]-90*1.3+8*icount, 'd',fontsize=80)\n",
    "            ax[icount].arrow(zp[58718,1]-5, zp[58718,0], 0, -80+5*icount, head_width = 15*scalemat[icount], width = 3*scalemat[icount],color='black')\n",
    "        \n",
    "        else:\n",
    "            ax[icount].text(zp[58718,1]+ -20+icount*2 , zp[58718,0]-90*1.3+8*icount, 'd',fontsize=80)\n",
    "            ax[icount].arrow(zp[58718,1], zp[58718,0], 0, -80+5*icount, head_width = 15*scalemat[icount], width = 3*scalemat[icount],color='black')\n",
    "        \n",
    "        #e\n",
    "        \n",
    "        \n",
    "        ax[icount].text(zp[83065,1]+ 88 -6*icount, zp[83065,0]+80*1.3-6*icount, 'c',fontsize=80)\n",
    "        \n",
    "        #plt.xticks(xlrng,xrng,fontsize=80)\n",
    "       ## plt.yticks(ylrng,yrng,fontsize=46)\n",
    "        #plt.tick_params(axis='x', labelrotation=60)\n",
    "       \n",
    "        \n",
    "        #plt.tick_params(left = False, right = False,labelleft = False,labelbottom = False, bottom = False)\n",
    "        icount +=1\n",
    "        #cbar = plt.colorbar()\n",
    "        #cbar.ax.tick_params(labelsize=50)\n",
    "        #plt.scatter(zp[58718,1], zp[58718,0], facecolor='magenta',s=300)\n",
    "        #plt.scatter(zp[40100,1], zp[40100,0], facecolor='cyan',s=300)\n",
    "        #plt.scatter(zp[27211,1], zp[27211,0], facecolor='green',s=300)\n",
    "        #plt.scatter(zp[17230,1], zp[17230,0], facecolor='blue',s=300)\n",
    "        #plt.scatter(zp[83065,1], zp[83065,0], facecolor='yellow',s=300)\n",
    "        #print()\n",
    "        \n",
    "        #findglobal min and max\n",
    "        #if one_max>xmax:\n",
    "         #   xmax = one_max\n",
    "        #if one_min<xmin:\n",
    "        #    xmin = one_min\n",
    "        #if two_max>ymax:\n",
    "         #   ymax = two_max\n",
    "        #if two_min<ymin:\n",
    "         #   ymin = two_min\n",
    "        #findglobal min and max\n",
    "    \n",
    "        #plt.gca().invert_yaxis()\n",
    "    fig.tight_layout(rect=[0,0,0.99,0.99])    \n",
    "    plt.show()\n",
    "     \n",
    "    fig.savefig('Chignolin_smFES_%dk_%dphoton.npz' %(Dv,Nv), dpi=300)\n",
    "        \n",
    "        #print(flag)\n",
    "        #fig.savefig('Chig_map_gen_%dk_%fns.png' %(Dv,b*0.2), dpi=300)"
   ]
  },
  {
   "cell_type": "code",
   "execution_count": null,
   "metadata": {},
   "outputs": [],
   "source": [
    "t"
   ]
  },
  {
   "cell_type": "code",
   "execution_count": null,
   "metadata": {},
   "outputs": [],
   "source": [
    "#ONE PLOT STYLE\n",
    "\n",
    "#bin_sizes = [1,5,10,25,50]\n",
    "#Dvec = [40000,20000,10000,1000] \n",
    "Dvec = [40000]\n",
    "tau = [5]#1,5,10,25,50]\n",
    "\n",
    "#no of observed photon\n",
    "Photon_No  = [0,1000000,100000,10000]\n",
    "\n",
    "\n",
    "#initialize \n",
    "#xmin=10000\n",
    "#ymin = 10000\n",
    "#xmax = -10000\n",
    "#ymax = -10000\n",
    "icount = 0\n",
    "\n",
    "fig, ax = plt.subplots(len(Photon_No),figsize=(25, 15*len(Photon_No)))\n",
    "\n",
    "\n",
    "mpl.rc('xtick', labelsize=60) \n",
    "mpl.rc('ytick', labelsize=60)\n",
    "\n",
    "#iterate over smFES coordinates for different conditions\n",
    "for Dv in Dvec:\n",
    "    for Nv in Photon_No:\n",
    "        \n",
    "        t = tau[0]# binsz\n",
    "        flag = 0\n",
    "        npzfile = np.load('ANN_pred_%dk_%dphoton_%fns.npz' %(Dv,Nv,t*0.2))\n",
    "        z = npzfile['z_aa']\n",
    "        #choose which dimensions to plot\n",
    "        zp = z#[:,[1,2]]\n",
    "        #if binsz==1:\n",
    "         #   zp[:,0] = -zp[:,0]\n",
    "           # zp[:,1] = -zp[:,1]\n",
    "        \n",
    "        #determine limits of the map\n",
    "        one_max = max(zp[:,0])\n",
    "        one_min = min(zp[:,0]) \n",
    "        two_max = max(zp[:,1])\n",
    "        two_min = min(zp[:,1])\n",
    "        \n",
    "        #Translate map to the first quadrant\n",
    "        # move the range so that all numbers are positive\n",
    "        if one_min < 0: \n",
    "            zp[:,0] += abs(one_min)\n",
    "        elif one_min > 0:\n",
    "            zp[:,0] -= abs(one_min)\n",
    "            \n",
    "        if two_min < 0: \n",
    "            zp[:,1] += abs(two_min)\n",
    "        elif two_min > 0:\n",
    "            zp[:,1] -= abs(two_min)\n",
    "        print(int((one_max-one_min)/1e-7),int((two_max-two_min)/1e-7))\n",
    "            \n",
    "        # make all elements of zp positive numbers that can correspond to cells\n",
    "        # Deal with EOF error by plotting around 1e1-1e4 in size\n",
    "        zp /=1e-7\n",
    "        # an assumption of initial conditions\n",
    "        k_b = 1.38064852e-23\n",
    "        T = 300\n",
    "        b = k_b*T\n",
    "\n",
    "        d_x = int((one_max-one_min)/1e-7)+20\n",
    "        d_y = int((two_max-two_min)/1e-7)+20\n",
    "\n",
    "        xp = np.linspace(one_min,one_max,10)\n",
    "        yp = np.linspace(two_min,two_max,10)\n",
    "\n",
    "        for i in range(len(xp)):\n",
    "            xp[i] = round(xp[i],4)\n",
    "            yp[i] = round(yp[i],4)\n",
    "\n",
    "        x = range(d_x)\n",
    "        y= range(d_y)\n",
    "        xx = range(0,d_x,int(d_x/10))\n",
    "        yy= range(0,d_y,int(d_y/10))\n",
    "        # Let's make a free energy landscape\n",
    "\n",
    "        #Make a lattice in the region in numpy\n",
    "        lattice = np.zeros([d_x,d_y])\n",
    "        #lattice = np.empty([d_x,d_y])\n",
    "        #psi_2 from -0.0001 to 0.0007\n",
    "        for i in range(len(zp)):\n",
    "            #resolution in dimensions 1, 2 is 1e-9\n",
    "            l = int(np.floor(zp[i,0]))+10\n",
    "            m = int(np.floor(zp[i,1]))+10\n",
    "            #try:\n",
    "            lattice[l,m] += 1\n",
    "            #except:\n",
    "             #   flag +=1\n",
    "              #  pass\n",
    "\n",
    "        # normalize probabilities \n",
    "        lattice /= len(z)\n",
    "        # normalize for grid sizing\n",
    "        lattice *= d_x*d_y\n",
    "        #deep copy lattice for processing \n",
    "        F = deepcopy(lattice)\n",
    "        for l in range(d_x):\n",
    "            for m in range(d_y):\n",
    "                if F[l,m] !=0:\n",
    "                #if F[l,m] !=np.NaN:\n",
    "                    F[l,m] = -np.log(F[l,m]) \n",
    "        Fp = list(F)\n",
    "        maxi =0\n",
    "        for i in range(len(Fp)):\n",
    "            Fpp = min(Fp[i])\n",
    "            if maxi > Fpp:\n",
    "                maxi = Fpp\n",
    "        print(maxi)\n",
    "        \n",
    "        for l in range(d_x):\n",
    "            for m in range(d_y):\n",
    "                if F[l,m] !=0:\n",
    "                    F[l,m] -= maxi\n",
    "                elif F[l,m] ==0:\n",
    "                    F[l,m] = np.NaN\n",
    "\n",
    "        #Heatmap 1\n",
    "        plt.subplots_adjust(top = 1, bottom = 0, right = 1, left = 0, hspace = 0, wspace = 0)\n",
    "       # plt.subplots_adjust(top = 1, bottom = 0, right = 1, left = 0, hspace = 0.3, wspace = 0.5)\n",
    "        ax[icount].imshow(F, cmap='jet', interpolation='nearest', vmin=0, vmax=12.5)\n",
    "        ax[icount].set_xlabel('$\\Psi_1$', fontsize=60)\n",
    "        ax[icount].set_ylabel('$\\Psi_2$', fontsize=60)\n",
    "        #plt.xlim(left = (y[0]- abs(y[0])*0.1),right = (y[-1]+ abs(y[-1])*0.1))\n",
    "        #plt.ylim((x[0]- abs(x[0])*0.1),(x[-1]+ abs(x[-1])*0.1))\n",
    "        \n",
    "        axes = ['(i)','(ii)','(iii)','(iv)','(v)']\n",
    "        ax[icount].set_title(axes[icount],loc='left',fontsize=60,fontweight=\"bold\")\n",
    "\n",
    "         \n",
    "        yl = ax[icount].get_ylim()\n",
    "        xl = ax[icount].get_xlim()\n",
    "                     \n",
    "        yrng = np.linspace(one_min,one_max,5)\n",
    "        xrng =  np.linspace(two_min,two_max,5)\n",
    "       \n",
    "        xlrng = np.linspace(float(xl[0]),float(xl[1]),5)\n",
    "        ylrng = np.linspace(float(yl[0]),float(yl[1]),5) #\n",
    "                \n",
    "        for i in range(len(xrng)):\n",
    "           # xrng[i] = np.float(format(np.float(np.format_float_positional(xrng[i],precision=7,trim='k')), '.7f'))\n",
    "            xrng[i] = np.format_float_scientific(xrng[i],precision=0,trim='-')#format(np.float(),'.7e'))\n",
    "        print(xrng)\n",
    "        for i in range(len(yrng)):\n",
    "            yrng[i] = np.format_float_scientific(yrng[i],precision=0,trim='-')\n",
    "        print(yrng)\n",
    "\n",
    "        \n",
    "        ax[icount].set_xticks(xlrng)\n",
    "        ax[icount].set_yticks(ylrng)\n",
    "     \n",
    "        #ax[icount].tick_params(axis='x', labelrotation=60)\n",
    "        ax[icount].set_xticklabels(xlbl[icount],rotation=60)\n",
    "        ax[icount].set_yticklabels(ylbl[icount])\n",
    "        \n",
    "        #CHOOSE POINTS YOU WANT TO PLOT\n",
    "        ax[icount].arrow(zp[17230,1], zp[17230,0], 0,50, head_width = 30, width = 8,color='black')\n",
    "        ax[icount].arrow(zp[27211,1], zp[27211,0], 0, 50, head_width = 30, width = 8,color='black')\n",
    "        ax[icount].arrow(zp[40100,1], zp[40100,0], 50, 0, head_width = 30, width = 8,color='black')\n",
    "        ax[icount].arrow(zp[58718,1], zp[58718,0], 0, -50, head_width = 30, width = 8,color='black')\n",
    "        ax[icount].arrow(zp[83065,1], zp[83065,0]+10, -100, 0, head_width = 30, width = 8,color='black')\n",
    "        \n",
    "        ax[icount].text(zp[17230,1], zp[17230,0], 'a',fontsize=50)#, horizontalalignment='left', verticalalignment='center')#, transform=ax1.transAxes)\n",
    "        ax[icount].text(zp[27211,1], zp[27211,0], 'b',fontsize=50)\n",
    "        ax[icount].text(zp[40100,1], zp[40100,0], 'c',fontsize=50)\n",
    "        ax[icount].text(zp[58718,1], zp[58718,0]-80*1.3, 'd',fontsize=50)\n",
    "        ax[icount].text(zp[83065,1], zp[83065,0], 'e',fontsize=50)\n",
    "        \n",
    "\n",
    "        icount +=1\n",
    "        #cbar = plt.colorbar()\n",
    "        #cbar.ax.tick_params(labelsize=50)\n",
    "\n",
    "\n",
    "    fig.tight_layout(rect=[0,0,0.9,0.9])    \n",
    "    plt.show()\n",
    "     \n",
    "    fig.savefig('Chignolin_smFES_var_Nv.png', dpi=300)\n"
   ]
  }
 ],
 "metadata": {
  "kernelspec": {
   "display_name": "Python 3",
   "language": "python",
   "name": "python3"
  },
  "language_info": {
   "codemirror_mode": {
    "name": "ipython",
    "version": 3
   },
   "file_extension": ".py",
   "mimetype": "text/x-python",
   "name": "python",
   "nbconvert_exporter": "python",
   "pygments_lexer": "ipython3",
   "version": "3.7.6"
  }
 },
 "nbformat": 4,
 "nbformat_minor": 2
}
